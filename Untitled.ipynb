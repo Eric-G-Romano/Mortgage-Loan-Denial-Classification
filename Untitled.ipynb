{
 "cells": [
  {
   "cell_type": "code",
   "execution_count": 1,
   "metadata": {},
   "outputs": [],
   "source": [
    "## Adding liberies\n",
    "import pandas as pd\n",
    "import numpy as np\n",
    "import matplotlib as mpl\n",
    "import matplotlib.pyplot as plt\n",
    "import seaborn as sns\n",
    "%matplotlib inline"
   ]
  },
  {
   "cell_type": "code",
   "execution_count": 2,
   "metadata": {},
   "outputs": [
    {
     "name": "stderr",
     "output_type": "stream",
     "text": [
      "C:\\Users\\egust\\anaconda3\\envs\\learn-env\\lib\\site-packages\\IPython\\core\\interactiveshell.py:3072: DtypeWarning: Columns (34,36,38,44,46,48) have mixed types. Specify dtype option on import or set low_memory=False.\n",
      "  interactivity=interactivity, compiler=compiler, result=result)\n"
     ]
    }
   ],
   "source": [
    "df_mortgage_2017 = pd.read_csv('hmda_2017_nj_all-records_labels.csv')"
   ]
  },
  {
   "cell_type": "code",
   "execution_count": 3,
   "metadata": {},
   "outputs": [
    {
     "name": "stdout",
     "output_type": "stream",
     "text": [
      "<class 'pandas.core.frame.DataFrame'>\n",
      "RangeIndex: 349563 entries, 0 to 349562\n",
      "Data columns (total 78 columns):\n",
      "as_of_year                        349563 non-null int64\n",
      "respondent_id                     349563 non-null object\n",
      "agency_name                       349563 non-null object\n",
      "agency_abbr                       349563 non-null object\n",
      "agency_code                       349563 non-null int64\n",
      "loan_type_name                    349563 non-null object\n",
      "loan_type                         349563 non-null int64\n",
      "property_type_name                349563 non-null object\n",
      "property_type                     349563 non-null int64\n",
      "loan_purpose_name                 349563 non-null object\n",
      "loan_purpose                      349563 non-null int64\n",
      "owner_occupancy_name              349563 non-null object\n",
      "owner_occupancy                   349563 non-null int64\n",
      "loan_amount_000s                  349409 non-null float64\n",
      "preapproval_name                  349563 non-null object\n",
      "preapproval                       349563 non-null int64\n",
      "action_taken_name                 349563 non-null object\n",
      "action_taken                      349563 non-null int64\n",
      "msamd_name                        348723 non-null object\n",
      "msamd                             348838 non-null float64\n",
      "state_name                        349563 non-null object\n",
      "state_abbr                        349563 non-null object\n",
      "state_code                        349563 non-null int64\n",
      "county_name                       348887 non-null object\n",
      "county_code                       348887 non-null float64\n",
      "census_tract_number               348866 non-null float64\n",
      "applicant_ethnicity_name          349563 non-null object\n",
      "applicant_ethnicity               349563 non-null int64\n",
      "co_applicant_ethnicity_name       349563 non-null object\n",
      "co_applicant_ethnicity            349563 non-null int64\n",
      "applicant_race_name_1             349563 non-null object\n",
      "applicant_race_1                  349563 non-null int64\n",
      "applicant_race_name_2             1756 non-null object\n",
      "applicant_race_2                  1756 non-null float64\n",
      "applicant_race_name_3             143 non-null object\n",
      "applicant_race_3                  143 non-null float64\n",
      "applicant_race_name_4             30 non-null object\n",
      "applicant_race_4                  30 non-null float64\n",
      "applicant_race_name_5             18 non-null object\n",
      "applicant_race_5                  18 non-null float64\n",
      "co_applicant_race_name_1          349563 non-null object\n",
      "co_applicant_race_1               349563 non-null int64\n",
      "co_applicant_race_name_2          591 non-null object\n",
      "co_applicant_race_2               591 non-null float64\n",
      "co_applicant_race_name_3          31 non-null object\n",
      "co_applicant_race_3               31 non-null float64\n",
      "co_applicant_race_name_4          11 non-null object\n",
      "co_applicant_race_4               11 non-null float64\n",
      "co_applicant_race_name_5          5 non-null object\n",
      "co_applicant_race_5               5 non-null float64\n",
      "applicant_sex_name                349563 non-null object\n",
      "applicant_sex                     349563 non-null int64\n",
      "co_applicant_sex_name             349563 non-null object\n",
      "co_applicant_sex                  349563 non-null int64\n",
      "applicant_income_000s             299048 non-null float64\n",
      "purchaser_type_name               349563 non-null object\n",
      "purchaser_type                    349563 non-null int64\n",
      "denial_reason_name_1              37217 non-null object\n",
      "denial_reason_1                   37217 non-null float64\n",
      "denial_reason_name_2              6892 non-null object\n",
      "denial_reason_2                   6892 non-null float64\n",
      "denial_reason_name_3              979 non-null object\n",
      "denial_reason_3                   979 non-null float64\n",
      "rate_spread                       8816 non-null float64\n",
      "hoepa_status_name                 349563 non-null object\n",
      "hoepa_status                      349563 non-null int64\n",
      "lien_status_name                  349563 non-null object\n",
      "lien_status                       349563 non-null int64\n",
      "edit_status_name                  0 non-null float64\n",
      "edit_status                       0 non-null float64\n",
      "sequence_number                   0 non-null float64\n",
      "population                        348866 non-null float64\n",
      "minority_population               348866 non-null float64\n",
      "hud_median_family_income          348866 non-null float64\n",
      "tract_to_msamd_income             348866 non-null float64\n",
      "number_of_owner_occupied_units    348866 non-null float64\n",
      "number_of_1_to_4_family_units     348866 non-null float64\n",
      "application_date_indicator        0 non-null float64\n",
      "dtypes: float64(27), int64(18), object(33)\n",
      "memory usage: 208.0+ MB\n"
     ]
    }
   ],
   "source": [
    "df_mortgage_2017.info()"
   ]
  },
  {
   "cell_type": "code",
   "execution_count": 4,
   "metadata": {},
   "outputs": [
    {
     "data": {
      "text/html": [
       "<div>\n",
       "<style scoped>\n",
       "    .dataframe tbody tr th:only-of-type {\n",
       "        vertical-align: middle;\n",
       "    }\n",
       "\n",
       "    .dataframe tbody tr th {\n",
       "        vertical-align: top;\n",
       "    }\n",
       "\n",
       "    .dataframe thead th {\n",
       "        text-align: right;\n",
       "    }\n",
       "</style>\n",
       "<table border=\"1\" class=\"dataframe\">\n",
       "  <thead>\n",
       "    <tr style=\"text-align: right;\">\n",
       "      <th></th>\n",
       "      <th>as_of_year</th>\n",
       "      <th>respondent_id</th>\n",
       "      <th>agency_name</th>\n",
       "      <th>agency_abbr</th>\n",
       "      <th>agency_code</th>\n",
       "      <th>loan_type_name</th>\n",
       "      <th>loan_type</th>\n",
       "      <th>property_type_name</th>\n",
       "      <th>property_type</th>\n",
       "      <th>loan_purpose_name</th>\n",
       "      <th>...</th>\n",
       "      <th>edit_status_name</th>\n",
       "      <th>edit_status</th>\n",
       "      <th>sequence_number</th>\n",
       "      <th>population</th>\n",
       "      <th>minority_population</th>\n",
       "      <th>hud_median_family_income</th>\n",
       "      <th>tract_to_msamd_income</th>\n",
       "      <th>number_of_owner_occupied_units</th>\n",
       "      <th>number_of_1_to_4_family_units</th>\n",
       "      <th>application_date_indicator</th>\n",
       "    </tr>\n",
       "  </thead>\n",
       "  <tbody>\n",
       "    <tr>\n",
       "      <th>0</th>\n",
       "      <td>2017</td>\n",
       "      <td>62-1532940</td>\n",
       "      <td>Department of Housing and Urban Development</td>\n",
       "      <td>HUD</td>\n",
       "      <td>7</td>\n",
       "      <td>Conventional</td>\n",
       "      <td>1</td>\n",
       "      <td>One-to-four family dwelling (other than manufa...</td>\n",
       "      <td>1</td>\n",
       "      <td>Home purchase</td>\n",
       "      <td>...</td>\n",
       "      <td>NaN</td>\n",
       "      <td>NaN</td>\n",
       "      <td>NaN</td>\n",
       "      <td>6278.0</td>\n",
       "      <td>27.83</td>\n",
       "      <td>91500.0</td>\n",
       "      <td>144.710007</td>\n",
       "      <td>1975.0</td>\n",
       "      <td>2018.0</td>\n",
       "      <td>NaN</td>\n",
       "    </tr>\n",
       "    <tr>\n",
       "      <th>1</th>\n",
       "      <td>2017</td>\n",
       "      <td>80-0743699</td>\n",
       "      <td>Department of Housing and Urban Development</td>\n",
       "      <td>HUD</td>\n",
       "      <td>7</td>\n",
       "      <td>FHA-insured</td>\n",
       "      <td>2</td>\n",
       "      <td>One-to-four family dwelling (other than manufa...</td>\n",
       "      <td>1</td>\n",
       "      <td>Home purchase</td>\n",
       "      <td>...</td>\n",
       "      <td>NaN</td>\n",
       "      <td>NaN</td>\n",
       "      <td>NaN</td>\n",
       "      <td>NaN</td>\n",
       "      <td>NaN</td>\n",
       "      <td>NaN</td>\n",
       "      <td>NaN</td>\n",
       "      <td>NaN</td>\n",
       "      <td>NaN</td>\n",
       "      <td>NaN</td>\n",
       "    </tr>\n",
       "    <tr>\n",
       "      <th>2</th>\n",
       "      <td>2017</td>\n",
       "      <td>177957</td>\n",
       "      <td>Federal Reserve System</td>\n",
       "      <td>FRS</td>\n",
       "      <td>2</td>\n",
       "      <td>Conventional</td>\n",
       "      <td>1</td>\n",
       "      <td>One-to-four family dwelling (other than manufa...</td>\n",
       "      <td>1</td>\n",
       "      <td>Refinancing</td>\n",
       "      <td>...</td>\n",
       "      <td>NaN</td>\n",
       "      <td>NaN</td>\n",
       "      <td>NaN</td>\n",
       "      <td>5734.0</td>\n",
       "      <td>15.16</td>\n",
       "      <td>73400.0</td>\n",
       "      <td>68.940002</td>\n",
       "      <td>1728.0</td>\n",
       "      <td>3303.0</td>\n",
       "      <td>NaN</td>\n",
       "    </tr>\n",
       "    <tr>\n",
       "      <th>3</th>\n",
       "      <td>2017</td>\n",
       "      <td>23-2470039</td>\n",
       "      <td>Department of Housing and Urban Development</td>\n",
       "      <td>HUD</td>\n",
       "      <td>7</td>\n",
       "      <td>Conventional</td>\n",
       "      <td>1</td>\n",
       "      <td>One-to-four family dwelling (other than manufa...</td>\n",
       "      <td>1</td>\n",
       "      <td>Refinancing</td>\n",
       "      <td>...</td>\n",
       "      <td>NaN</td>\n",
       "      <td>NaN</td>\n",
       "      <td>NaN</td>\n",
       "      <td>5803.0</td>\n",
       "      <td>14.15</td>\n",
       "      <td>73700.0</td>\n",
       "      <td>179.679993</td>\n",
       "      <td>1926.0</td>\n",
       "      <td>2154.0</td>\n",
       "      <td>NaN</td>\n",
       "    </tr>\n",
       "    <tr>\n",
       "      <th>4</th>\n",
       "      <td>2017</td>\n",
       "      <td>80-0743699</td>\n",
       "      <td>Department of Housing and Urban Development</td>\n",
       "      <td>HUD</td>\n",
       "      <td>7</td>\n",
       "      <td>Conventional</td>\n",
       "      <td>1</td>\n",
       "      <td>One-to-four family dwelling (other than manufa...</td>\n",
       "      <td>1</td>\n",
       "      <td>Home purchase</td>\n",
       "      <td>...</td>\n",
       "      <td>NaN</td>\n",
       "      <td>NaN</td>\n",
       "      <td>NaN</td>\n",
       "      <td>NaN</td>\n",
       "      <td>NaN</td>\n",
       "      <td>NaN</td>\n",
       "      <td>NaN</td>\n",
       "      <td>NaN</td>\n",
       "      <td>NaN</td>\n",
       "      <td>NaN</td>\n",
       "    </tr>\n",
       "  </tbody>\n",
       "</table>\n",
       "<p>5 rows × 78 columns</p>\n",
       "</div>"
      ],
      "text/plain": [
       "   as_of_year respondent_id                                  agency_name  \\\n",
       "0        2017    62-1532940  Department of Housing and Urban Development   \n",
       "1        2017    80-0743699  Department of Housing and Urban Development   \n",
       "2        2017        177957                       Federal Reserve System   \n",
       "3        2017    23-2470039  Department of Housing and Urban Development   \n",
       "4        2017    80-0743699  Department of Housing and Urban Development   \n",
       "\n",
       "  agency_abbr  agency_code loan_type_name  loan_type  \\\n",
       "0         HUD            7   Conventional          1   \n",
       "1         HUD            7    FHA-insured          2   \n",
       "2         FRS            2   Conventional          1   \n",
       "3         HUD            7   Conventional          1   \n",
       "4         HUD            7   Conventional          1   \n",
       "\n",
       "                                  property_type_name  property_type  \\\n",
       "0  One-to-four family dwelling (other than manufa...              1   \n",
       "1  One-to-four family dwelling (other than manufa...              1   \n",
       "2  One-to-four family dwelling (other than manufa...              1   \n",
       "3  One-to-four family dwelling (other than manufa...              1   \n",
       "4  One-to-four family dwelling (other than manufa...              1   \n",
       "\n",
       "  loan_purpose_name  ...  edit_status_name edit_status  sequence_number  \\\n",
       "0     Home purchase  ...               NaN         NaN              NaN   \n",
       "1     Home purchase  ...               NaN         NaN              NaN   \n",
       "2       Refinancing  ...               NaN         NaN              NaN   \n",
       "3       Refinancing  ...               NaN         NaN              NaN   \n",
       "4     Home purchase  ...               NaN         NaN              NaN   \n",
       "\n",
       "   population minority_population  hud_median_family_income  \\\n",
       "0      6278.0               27.83                   91500.0   \n",
       "1         NaN                 NaN                       NaN   \n",
       "2      5734.0               15.16                   73400.0   \n",
       "3      5803.0               14.15                   73700.0   \n",
       "4         NaN                 NaN                       NaN   \n",
       "\n",
       "  tract_to_msamd_income  number_of_owner_occupied_units  \\\n",
       "0            144.710007                          1975.0   \n",
       "1                   NaN                             NaN   \n",
       "2             68.940002                          1728.0   \n",
       "3            179.679993                          1926.0   \n",
       "4                   NaN                             NaN   \n",
       "\n",
       "  number_of_1_to_4_family_units  application_date_indicator  \n",
       "0                        2018.0                         NaN  \n",
       "1                           NaN                         NaN  \n",
       "2                        3303.0                         NaN  \n",
       "3                        2154.0                         NaN  \n",
       "4                           NaN                         NaN  \n",
       "\n",
       "[5 rows x 78 columns]"
      ]
     },
     "execution_count": 4,
     "metadata": {},
     "output_type": "execute_result"
    }
   ],
   "source": [
    "df_mortgage_2017.head()"
   ]
  },
  {
   "cell_type": "code",
   "execution_count": 5,
   "metadata": {
    "scrolled": false
   },
   "outputs": [
    {
     "name": "stdout",
     "output_type": "stream",
     "text": [
      "<class 'pandas.core.frame.DataFrame'>\n",
      "Int64Index: 184956 entries, 0 to 349562\n",
      "Data columns (total 78 columns):\n",
      "as_of_year                        184956 non-null int64\n",
      "respondent_id                     184956 non-null object\n",
      "agency_name                       184956 non-null object\n",
      "agency_abbr                       184956 non-null object\n",
      "agency_code                       184956 non-null int64\n",
      "loan_type_name                    184956 non-null object\n",
      "loan_type                         184956 non-null int64\n",
      "property_type_name                184956 non-null object\n",
      "property_type                     184956 non-null int64\n",
      "loan_purpose_name                 184956 non-null object\n",
      "loan_purpose                      184956 non-null int64\n",
      "owner_occupancy_name              184956 non-null object\n",
      "owner_occupancy                   184956 non-null int64\n",
      "loan_amount_000s                  184928 non-null float64\n",
      "preapproval_name                  184956 non-null object\n",
      "preapproval                       184956 non-null int64\n",
      "action_taken_name                 184956 non-null object\n",
      "action_taken                      184956 non-null int64\n",
      "msamd_name                        184332 non-null object\n",
      "msamd                             184348 non-null float64\n",
      "state_name                        184956 non-null object\n",
      "state_abbr                        184956 non-null object\n",
      "state_code                        184956 non-null int64\n",
      "county_name                       184373 non-null object\n",
      "county_code                       184373 non-null float64\n",
      "census_tract_number               184365 non-null float64\n",
      "applicant_ethnicity_name          184956 non-null object\n",
      "applicant_ethnicity               184956 non-null int64\n",
      "co_applicant_ethnicity_name       184956 non-null object\n",
      "co_applicant_ethnicity            184956 non-null int64\n",
      "applicant_race_name_1             184956 non-null object\n",
      "applicant_race_1                  184956 non-null int64\n",
      "applicant_race_name_2             776 non-null object\n",
      "applicant_race_2                  776 non-null float64\n",
      "applicant_race_name_3             50 non-null object\n",
      "applicant_race_3                  50 non-null float64\n",
      "applicant_race_name_4             5 non-null object\n",
      "applicant_race_4                  5 non-null float64\n",
      "applicant_race_name_5             3 non-null object\n",
      "applicant_race_5                  3 non-null float64\n",
      "co_applicant_race_name_1          184956 non-null object\n",
      "co_applicant_race_1               184956 non-null int64\n",
      "co_applicant_race_name_2          291 non-null object\n",
      "co_applicant_race_2               291 non-null float64\n",
      "co_applicant_race_name_3          10 non-null object\n",
      "co_applicant_race_3               10 non-null float64\n",
      "co_applicant_race_name_4          1 non-null object\n",
      "co_applicant_race_4               1 non-null float64\n",
      "co_applicant_race_name_5          1 non-null object\n",
      "co_applicant_race_5               1 non-null float64\n",
      "applicant_sex_name                184956 non-null object\n",
      "applicant_sex                     184956 non-null int64\n",
      "co_applicant_sex_name             184956 non-null object\n",
      "co_applicant_sex                  184956 non-null int64\n",
      "applicant_income_000s             158650 non-null float64\n",
      "purchaser_type_name               184956 non-null object\n",
      "purchaser_type                    184956 non-null int64\n",
      "denial_reason_name_1              11254 non-null object\n",
      "denial_reason_1                   11254 non-null float64\n",
      "denial_reason_name_2              2236 non-null object\n",
      "denial_reason_2                   2236 non-null float64\n",
      "denial_reason_name_3              401 non-null object\n",
      "denial_reason_3                   401 non-null float64\n",
      "rate_spread                       6992 non-null float64\n",
      "hoepa_status_name                 184956 non-null object\n",
      "hoepa_status                      184956 non-null int64\n",
      "lien_status_name                  184956 non-null object\n",
      "lien_status                       184956 non-null int64\n",
      "edit_status_name                  0 non-null float64\n",
      "edit_status                       0 non-null float64\n",
      "sequence_number                   0 non-null float64\n",
      "population                        184365 non-null float64\n",
      "minority_population               184365 non-null float64\n",
      "hud_median_family_income          184365 non-null float64\n",
      "tract_to_msamd_income             184365 non-null float64\n",
      "number_of_owner_occupied_units    184365 non-null float64\n",
      "number_of_1_to_4_family_units     184365 non-null float64\n",
      "application_date_indicator        0 non-null float64\n",
      "dtypes: float64(27), int64(18), object(33)\n",
      "memory usage: 111.5+ MB\n"
     ]
    }
   ],
   "source": [
    "## First find the loan_purpose_name that is only for Home purchase\n",
    "df_mortgage_hp_2017 = df_mortgage_2017.loc[df_mortgage_2017.loan_purpose_name == 'Home purchase']\n",
    "df_mortgage_hp_2017.info()"
   ]
  },
  {
   "cell_type": "markdown",
   "metadata": {},
   "source": [
    "# Cleaning Data\n",
    "\n",
    "The Goal in this section is extract and clean this dataset to obtain as much useful data. This is a vital set in order to have a\n",
    "reliable machine learning model. \n",
    "\n",
    "1. remove or replace Nan, None, and values that represent those two. \n",
    "\n",
    "The model is only as good as what you put into it. If you dont siphe through the trash you'll end up with trash predictions. "
   ]
  },
  {
   "cell_type": "code",
   "execution_count": 6,
   "metadata": {},
   "outputs": [
    {
     "name": "stdout",
     "output_type": "stream",
     "text": [
      "28\n",
      "28\n",
      "count    184928.000000\n",
      "mean        324.523647\n",
      "std        1020.147273\n",
      "min           1.000000\n",
      "25%         176.000000\n",
      "50%         261.000000\n",
      "75%         377.000000\n",
      "max      260000.000000\n",
      "Name: loan_amount_000s, dtype: float64\n"
     ]
    }
   ],
   "source": [
    "print(df_mortgage_hp_2017.loan_amount_000s.isnull().sum())\n",
    "print(df_mortgage_hp_2017.loan_amount_000s.isna().sum())\n",
    "print(df_mortgage_hp_2017.loan_amount_000s.describe())"
   ]
  },
  {
   "cell_type": "code",
   "execution_count": 7,
   "metadata": {},
   "outputs": [
    {
     "name": "stdout",
     "output_type": "stream",
     "text": [
      "['New Jersey']\n",
      "['NJ']\n",
      "[34]\n"
     ]
    }
   ],
   "source": [
    "print(df_mortgage_hp_2017.state_name.unique())\n",
    "print(df_mortgage_hp_2017.state_abbr.unique())\n",
    "print(df_mortgage_hp_2017.state_code.unique())"
   ]
  },
  {
   "cell_type": "code",
   "execution_count": 8,
   "metadata": {},
   "outputs": [
    {
     "name": "stdout",
     "output_type": "stream",
     "text": [
      "['Camden County' nan 'Bergen County' 'Cape May County' 'Essex County'\n",
      " 'Burlington County' 'Ocean County' 'Gloucester County' 'Middlesex County'\n",
      " 'Hudson County' 'Monmouth County' 'Atlantic County' 'Sussex County'\n",
      " 'Somerset County' 'Morris County' 'Mercer County' 'Cumberland County'\n",
      " 'Warren County' 'Hunterdon County' 'Union County' 'Passaic County'\n",
      " 'Salem County']\n"
     ]
    }
   ],
   "source": [
    "print(df_mortgage_hp_2017.county_name.unique())"
   ]
  },
  {
   "cell_type": "code",
   "execution_count": 9,
   "metadata": {
    "scrolled": false
   },
   "outputs": [
    {
     "name": "stdout",
     "output_type": "stream",
     "text": [
      "1    164572\n",
      "2     19698\n",
      "3       686\n",
      "Name: owner_occupancy, dtype: int64\n",
      "\n",
      "\n",
      "Owner-occupied as a principal dwelling        164572\n",
      "Not owner-occupied as a principal dwelling     19698\n",
      "Not applicable                                   686\n",
      "Name: owner_occupancy_name, dtype: int64\n",
      "----------------------------------------------------------------------------------------------\n",
      "applicant_ethnicity\n",
      "2    121222\n",
      "4     29478\n",
      "1     18483\n",
      "3     15773\n",
      "Name: applicant_ethnicity, dtype: int64\n",
      "\n",
      "\n",
      "Not Hispanic or Latino                                                               121222\n",
      "Not applicable                                                                        29478\n",
      "Hispanic or Latino                                                                    18483\n",
      "Information not provided by applicant in mail, Internet, or telephone application     15773\n",
      "Name: applicant_ethnicity_name, dtype: int64\n",
      "----------------------------------------------------------------------------------------------\n",
      "co_applicant_ethnicity\n",
      "5    92373\n",
      "2    52663\n",
      "4    24947\n",
      "3     7690\n",
      "1     7283\n",
      "Name: co_applicant_ethnicity, dtype: int64\n",
      "\n",
      "\n",
      "No co-applicant                                                                      92373\n",
      "Not Hispanic or Latino                                                               52663\n",
      "Not applicable                                                                       24947\n",
      "Information not provided by applicant in mail, Internet, or telephone application     7690\n",
      "Hispanic or Latino                                                                    7283\n",
      "Name: co_applicant_ethnicity_name, dtype: int64\n",
      "----------------------------------------------------------------------------------------------\n",
      "applicant_race\n",
      "5    106598\n",
      "7     29315\n",
      "6     18288\n",
      "2     18270\n",
      "3     11576\n",
      "4       462\n",
      "1       447\n",
      "Name: applicant_race_1, dtype: int64\n",
      "\n",
      "\n",
      "White                                                                                106598\n",
      "Not applicable                                                                        29315\n",
      "Information not provided by applicant in mail, Internet, or telephone application     18288\n",
      "Asian                                                                                 18270\n",
      "Black or African American                                                             11576\n",
      "Native Hawaiian or Other Pacific Islander                                               462\n",
      "American Indian or Alaska Native                                                        447\n",
      "Name: applicant_race_name_1, dtype: int64\n",
      "----------------------------------------------------------------------------------------------\n",
      "co_applicant_race\n",
      "8    92373\n",
      "5    48044\n",
      "7    24903\n",
      "6     8616\n",
      "2     7756\n",
      "3     2868\n",
      "4      220\n",
      "1      176\n",
      "Name: co_applicant_race_1, dtype: int64\n",
      "\n",
      "\n",
      "No co-applicant                                                                      92373\n",
      "White                                                                                48044\n",
      "Not applicable                                                                       24903\n",
      "Information not provided by applicant in mail, Internet, or telephone application     8616\n",
      "Asian                                                                                 7756\n",
      "Black or African American                                                             2868\n",
      "Native Hawaiian or Other Pacific Islander                                              220\n",
      "American Indian or Alaska Native                                                       176\n",
      "Name: co_applicant_race_name_1, dtype: int64\n",
      "----------------------------------------------------------------------------------------------\n",
      "lien_status\n",
      "Secured by a first lien          143841\n",
      "Not applicable                    40111\n",
      "Secured by a subordinate lien      1004\n",
      "Name: lien_status_name, dtype: int64\n",
      "\n",
      "\n",
      "1    143841\n",
      "4     40111\n",
      "2      1004\n",
      "Name: lien_status, dtype: int64\n",
      "----------------------------------------------------------------------------------------------\n",
      "applicant_sex\n",
      "1    101094\n",
      "2     45456\n",
      "4     29271\n",
      "3      9135\n",
      "Name: applicant_sex, dtype: int64\n",
      "\n",
      "\n",
      "Male                                                                                 101094\n",
      "Female                                                                                45456\n",
      "Not applicable                                                                        29271\n",
      "Information not provided by applicant in mail, Internet, or telephone application      9135\n",
      "Name: applicant_sex_name, dtype: int64\n",
      "----------------------------------------------------------------------------------------------\n",
      "co_applicant_sex\n",
      "5    92373\n",
      "2    47231\n",
      "4    24870\n",
      "1    15946\n",
      "3     4536\n",
      "Name: co_applicant_sex, dtype: int64\n",
      "\n",
      "\n",
      "No co-applicant                                                                      92373\n",
      "Female                                                                               47231\n",
      "Not applicable                                                                       24870\n",
      "Male                                                                                 15946\n",
      "Information not provided by applicant in mail, Internet, or telephone application     4536\n",
      "Name: co_applicant_sex_name, dtype: int64\n",
      "----------------------------------------------------------------------------------------------\n",
      "property_type\n",
      "1    183334\n",
      "2       899\n",
      "3       723\n",
      "Name: property_type, dtype: int64\n",
      "\n",
      "\n",
      "One-to-four family dwelling (other than manufactured housing)    183334\n",
      "Manufactured housing                                                899\n",
      "Multifamily dwelling                                                723\n",
      "Name: property_type_name, dtype: int64\n",
      "----------------------------------------------------------------------------------------------\n",
      "agency_name\n",
      "Department of Housing and Urban Development    107100\n",
      "Consumer Financial Protection Bureau            61183\n",
      "Federal Deposit Insurance Corporation            9490\n",
      "Office of the Comptroller of the Currency        3028\n",
      "National Credit Union Administration             2636\n",
      "Federal Reserve System                           1519\n",
      "Name: agency_name, dtype: int64\n",
      "\n",
      "\n",
      "7    107100\n",
      "9     61183\n",
      "3      9490\n",
      "1      3028\n",
      "5      2636\n",
      "2      1519\n",
      "Name: agency_code, dtype: int64\n",
      "----------------------------------------------------------------------------------------------\n",
      "action_taken\n",
      "1    99364\n",
      "6    40111\n",
      "4    21281\n",
      "3    14939\n",
      "5     4679\n",
      "2     4573\n",
      "7        5\n",
      "8        4\n",
      "Name: action_taken, dtype: int64\n",
      "\n",
      "\n",
      "Loan originated                                        99364\n",
      "Loan purchased by the institution                      40111\n",
      "Application withdrawn by applicant                     21281\n",
      "Application denied by financial institution            14939\n",
      "File closed for incompleteness                          4679\n",
      "Application approved but not accepted                   4573\n",
      "Preapproval request denied by financial institution        5\n",
      "Preapproval request approved but not accepted              4\n",
      "Name: action_taken_name, dtype: int64\n",
      "----------------------------------------------------------------------------------------------\n",
      "msamd\n",
      "35614.0    83484\n",
      "35084.0    48585\n",
      "15804.0    29475\n",
      "45940.0     6385\n",
      "12100.0     6005\n",
      "36140.0     4912\n",
      "10900.0     2245\n",
      "47220.0     2098\n",
      "48864.0     1143\n",
      "35620.0       10\n",
      "37980.0        6\n",
      "Name: msamd, dtype: int64\n",
      "\n",
      "\n",
      "New York, Jersey City, White Plains - NY, NJ    83484\n",
      "Newark - NJ, PA                                 48585\n",
      "Camden - NJ                                     29475\n",
      "Trenton - NJ                                     6385\n",
      "Atlantic City, Hammonton - NJ                    6005\n",
      "Ocean City - NJ                                  4912\n",
      "Allentown, Bethlehem, Easton - PA, NJ            2245\n",
      "Vineland, Bridgeton - NJ                         2098\n",
      "Wilmington - DE, MD, NJ                          1143\n",
      "Name: msamd_name, dtype: int64\n"
     ]
    }
   ],
   "source": [
    "print(df_mortgage_hp_2017.owner_occupancy.value_counts())\n",
    "print( '\\n')\n",
    "print(df_mortgage_hp_2017.owner_occupancy_name.value_counts())\n",
    "## \"Not owner-occupied as a principal dwelling' represents buyers that are seeking to buy a second or more properties\n",
    "print('----------------------------------------------------------------------------------------------')\n",
    "print('applicant_ethnicity')\n",
    "print(df_mortgage_hp_2017.applicant_ethnicity.value_counts())\n",
    "print( '\\n')\n",
    "print(df_mortgage_hp_2017.applicant_ethnicity_name.value_counts())\n",
    "print('----------------------------------------------------------------------------------------------')\n",
    "print('co_applicant_ethnicity')\n",
    "print(df_mortgage_hp_2017.co_applicant_ethnicity.value_counts())\n",
    "print( '\\n')\n",
    "print(df_mortgage_hp_2017.co_applicant_ethnicity_name.value_counts())\n",
    "print('----------------------------------------------------------------------------------------------')\n",
    "print('applicant_race')\n",
    "print(df_mortgage_hp_2017.applicant_race_1.value_counts())\n",
    "print( '\\n')\n",
    "print(df_mortgage_hp_2017.applicant_race_name_1.value_counts())\n",
    "print('----------------------------------------------------------------------------------------------')\n",
    "print('co_applicant_race')\n",
    "print(df_mortgage_hp_2017.co_applicant_race_1.value_counts())\n",
    "print( '\\n')\n",
    "print(df_mortgage_hp_2017.co_applicant_race_name_1.value_counts())\n",
    "print('----------------------------------------------------------------------------------------------')\n",
    "print('lien_status')\n",
    "print(df_mortgage_hp_2017.lien_status_name.value_counts())\n",
    "print( '\\n')\n",
    "print(df_mortgage_hp_2017.lien_status.value_counts())\n",
    "# A lien on a property is when said property is tied down to a debt owed to another party and the house is now used as collaterall if \n",
    "#said property defaults. \n",
    "print('----------------------------------------------------------------------------------------------')\n",
    "print('applicant_sex')\n",
    "print(df_mortgage_hp_2017.applicant_sex.value_counts())\n",
    "print( '\\n')\n",
    "print(df_mortgage_hp_2017.applicant_sex_name.value_counts())\n",
    "print('----------------------------------------------------------------------------------------------')\n",
    "print('co_applicant_sex')\n",
    "print(df_mortgage_hp_2017.co_applicant_sex.value_counts())\n",
    "print( '\\n')\n",
    "print(df_mortgage_hp_2017.co_applicant_sex_name.value_counts())\n",
    "print('----------------------------------------------------------------------------------------------')\n",
    "print('property_type')\n",
    "print(df_mortgage_hp_2017.property_type.value_counts())\n",
    "print( '\\n')\n",
    "print(df_mortgage_hp_2017.property_type_name.value_counts())\n",
    "## It was really fun to learn something new in terms of the real estate market. I didnt even know that Manufactured Housing was a thing\n",
    "## However, I believe it provides a great solution to the housing shortage but lending options are quite tighter as some of \n",
    "# these properties are not seen as real properties. \n",
    "print('----------------------------------------------------------------------------------------------')\n",
    "print('agency_name')\n",
    "print(df_mortgage_hp_2017.agency_name.value_counts())\n",
    "print( '\\n')\n",
    "print(df_mortgage_hp_2017.agency_code.value_counts())\n",
    "## Moving forward I will just remove the the agency_name and keep both the abbrivations and the code rep. \n",
    "## will decide to keep one out of the two at a later time \n",
    "print('----------------------------------------------------------------------------------------------')\n",
    "print('action_taken')\n",
    "print(df_mortgage_hp_2017.action_taken.value_counts())\n",
    "print( '\\n')\n",
    "print(df_mortgage_hp_2017.action_taken_name.value_counts())\n",
    "print('----------------------------------------------------------------------------------------------')\n",
    "print('msamd')\n",
    "print(df_mortgage_hp_2017.msamd.value_counts())\n",
    "print( '\\n')\n",
    "print(df_mortgage_hp_2017.msamd_name.value_counts())"
   ]
  },
  {
   "cell_type": "code",
   "execution_count": 10,
   "metadata": {},
   "outputs": [
    {
     "data": {
      "text/plain": [
       "No co-applicant                                                                      92373\n",
       "Not Hispanic or Latino                                                               52663\n",
       "Not applicable                                                                       24947\n",
       "Information not provided by applicant in mail, Internet, or telephone application     7690\n",
       "Hispanic or Latino                                                                    7283\n",
       "Name: co_applicant_ethnicity_name, dtype: int64"
      ]
     },
     "execution_count": 10,
     "metadata": {},
     "output_type": "execute_result"
    }
   ],
   "source": [
    "## how many applications has a co-applicant\n",
    "df_mortgage_hp_2017.co_applicant_ethnicity_name.value_counts()"
   ]
  },
  {
   "cell_type": "code",
   "execution_count": null,
   "metadata": {},
   "outputs": [],
   "source": []
  },
  {
   "cell_type": "code",
   "execution_count": 11,
   "metadata": {},
   "outputs": [
    {
     "name": "stdout",
     "output_type": "stream",
     "text": [
      "Reason for Denial\n",
      "[nan  5.  1.  9.  3.  6.  4.  7.  2.  8.]\n",
      "[nan 'Insufficient cash (downpayment, closing costs)'\n",
      " 'Debt-to-income ratio' 'Other' 'Credit history'\n",
      " 'Unverifiable information' 'Collateral' 'Credit application incomplete'\n",
      " 'Employment history' 'Mortgage insurance denied']\n",
      "Debt-to-income ratio                              3254\n",
      "Collateral                                        2401\n",
      "Credit application incomplete                     1890\n",
      "Credit history                                    1270\n",
      "Other                                             1224\n",
      "Insufficient cash (downpayment, closing costs)     496\n",
      "Unverifiable information                           455\n",
      "Employment history                                 254\n",
      "Mortgage insurance denied                           10\n",
      "Name: denial_reason_name_1, dtype: int64\n",
      "----------------------------------------------------------------------------------------------\n",
      "[nan  9.  1.  7.  4.  6.  5.  3.  2.  8.]\n",
      "[nan 'Other' 'Debt-to-income ratio' 'Credit application incomplete'\n",
      " 'Collateral' 'Unverifiable information'\n",
      " 'Insufficient cash (downpayment, closing costs)' 'Credit history'\n",
      " 'Employment history' 'Mortgage insurance denied']\n",
      "Other                                             580\n",
      "Insufficient cash (downpayment, closing costs)    381\n",
      "Credit history                                    323\n",
      "Debt-to-income ratio                              256\n",
      "Unverifiable information                          198\n",
      "Collateral                                        170\n",
      "Credit application incomplete                     166\n",
      "Employment history                                152\n",
      "Mortgage insurance denied                          10\n",
      "Name: denial_reason_name_2, dtype: int64\n",
      "----------------------------------------------------------------------------------------------\n",
      "[nan  9.  6.  5.  3.  7.  1.  2.  4.  8.]\n",
      "[nan 'Other' 'Unverifiable information'\n",
      " 'Insufficient cash (downpayment, closing costs)' 'Credit history'\n",
      " 'Credit application incomplete' 'Debt-to-income ratio'\n",
      " 'Employment history' 'Collateral' 'Mortgage insurance denied']\n",
      "Other                                             124\n",
      "Insufficient cash (downpayment, closing costs)     99\n",
      "Unverifiable information                           52\n",
      "Credit application incomplete                      34\n",
      "Credit history                                     32\n",
      "Collateral                                         24\n",
      "Debt-to-income ratio                               22\n",
      "Mortgage insurance denied                          10\n",
      "Employment history                                  4\n",
      "Name: denial_reason_name_3, dtype: int64\n"
     ]
    }
   ],
   "source": [
    "print('Reason for Denial')\n",
    "print(df_mortgage_hp_2017.denial_reason_1.unique())\n",
    "print(df_mortgage_hp_2017.denial_reason_name_1.unique())\n",
    "print(df_mortgage_hp_2017.denial_reason_name_1.value_counts())\n",
    "print('----------------------------------------------------------------------------------------------')\n",
    "print(df_mortgage_hp_2017.denial_reason_2.unique())\n",
    "print(df_mortgage_hp_2017.denial_reason_name_2.unique())\n",
    "print(df_mortgage_hp_2017.denial_reason_name_2.value_counts())\n",
    "print('----------------------------------------------------------------------------------------------')\n",
    "print(df_mortgage_hp_2017.denial_reason_3.unique())\n",
    "print(df_mortgage_hp_2017.denial_reason_name_3.unique())\n",
    "print(df_mortgage_hp_2017.denial_reason_name_3.value_counts())\n"
   ]
  },
  {
   "cell_type": "code",
   "execution_count": 12,
   "metadata": {},
   "outputs": [],
   "source": [
    "#df_mortgage_hp_2017.groupby(by=['applicant_sex_name'])['applicant_income_000s'].describe()"
   ]
  },
  {
   "cell_type": "code",
   "execution_count": 13,
   "metadata": {},
   "outputs": [],
   "source": [
    "#df_mortgage_hp_2017.groupby(by=['co_applicant_sex_name'])['applicant_income_000s'].describe()"
   ]
  },
  {
   "cell_type": "code",
   "execution_count": 14,
   "metadata": {},
   "outputs": [
    {
     "name": "stdout",
     "output_type": "stream",
     "text": [
      "Loan was not originated or was not sold in calendar year covered by register    75950\n",
      "Fannie Mae (FNMA)                                                               25766\n",
      "Ginnie Mae (GNMA)                                                               24962\n",
      "Freddie Mac (FHLMC)                                                             20533\n",
      "Life insurance company, credit union, mortgage bank, or finance company         17228\n",
      "Commercial bank, savings bank or savings association                            11818\n",
      "Other type of purchaser                                                          6454\n",
      "Affiliate institution                                                            1494\n",
      "Private securitization                                                            748\n",
      "Farmer Mac (FAMC)                                                                   3\n",
      "Name: purchaser_type_name, dtype: int64\n"
     ]
    }
   ],
   "source": [
    "print(df_mortgage_hp_2017.purchaser_type_name.value_counts())"
   ]
  },
  {
   "cell_type": "code",
   "execution_count": 15,
   "metadata": {},
   "outputs": [
    {
     "name": "stdout",
     "output_type": "stream",
     "text": [
      "1.50    166\n",
      "1.54    157\n",
      "1.61    155\n",
      "1.51    154\n",
      "1.53    150\n",
      "       ... \n",
      "5.25      1\n",
      "4.06      1\n",
      "6.78      1\n",
      "6.59      1\n",
      "4.14      1\n",
      "Name: rate_spread, Length: 369, dtype: int64\n"
     ]
    }
   ],
   "source": [
    "print(df_mortgage_hp_2017.rate_spread.value_counts())\n",
    "## Have to do more research on what the rate spread represents in respect to this data set "
   ]
  },
  {
   "cell_type": "code",
   "execution_count": 16,
   "metadata": {
    "scrolled": false
   },
   "outputs": [
    {
     "name": "stdout",
     "output_type": "stream",
     "text": [
      "<class 'pandas.core.frame.DataFrame'>\n",
      "Int64Index: 184956 entries, 0 to 349562\n",
      "Data columns (total 78 columns):\n",
      "as_of_year                        184956 non-null int64\n",
      "respondent_id                     184956 non-null object\n",
      "agency_name                       184956 non-null object\n",
      "agency_abbr                       184956 non-null object\n",
      "agency_code                       184956 non-null int64\n",
      "loan_type_name                    184956 non-null object\n",
      "loan_type                         184956 non-null int64\n",
      "property_type_name                184956 non-null object\n",
      "property_type                     184956 non-null int64\n",
      "loan_purpose_name                 184956 non-null object\n",
      "loan_purpose                      184956 non-null int64\n",
      "owner_occupancy_name              184956 non-null object\n",
      "owner_occupancy                   184956 non-null int64\n",
      "loan_amount_000s                  184928 non-null float64\n",
      "preapproval_name                  184956 non-null object\n",
      "preapproval                       184956 non-null int64\n",
      "action_taken_name                 184956 non-null object\n",
      "action_taken                      184956 non-null int64\n",
      "msamd_name                        184332 non-null object\n",
      "msamd                             184348 non-null float64\n",
      "state_name                        184956 non-null object\n",
      "state_abbr                        184956 non-null object\n",
      "state_code                        184956 non-null int64\n",
      "county_name                       184373 non-null object\n",
      "county_code                       184373 non-null float64\n",
      "census_tract_number               184365 non-null float64\n",
      "applicant_ethnicity_name          184956 non-null object\n",
      "applicant_ethnicity               184956 non-null int64\n",
      "co_applicant_ethnicity_name       184956 non-null object\n",
      "co_applicant_ethnicity            184956 non-null int64\n",
      "applicant_race_name_1             184956 non-null object\n",
      "applicant_race_1                  184956 non-null int64\n",
      "applicant_race_name_2             776 non-null object\n",
      "applicant_race_2                  776 non-null float64\n",
      "applicant_race_name_3             50 non-null object\n",
      "applicant_race_3                  50 non-null float64\n",
      "applicant_race_name_4             5 non-null object\n",
      "applicant_race_4                  5 non-null float64\n",
      "applicant_race_name_5             3 non-null object\n",
      "applicant_race_5                  3 non-null float64\n",
      "co_applicant_race_name_1          184956 non-null object\n",
      "co_applicant_race_1               184956 non-null int64\n",
      "co_applicant_race_name_2          291 non-null object\n",
      "co_applicant_race_2               291 non-null float64\n",
      "co_applicant_race_name_3          10 non-null object\n",
      "co_applicant_race_3               10 non-null float64\n",
      "co_applicant_race_name_4          1 non-null object\n",
      "co_applicant_race_4               1 non-null float64\n",
      "co_applicant_race_name_5          1 non-null object\n",
      "co_applicant_race_5               1 non-null float64\n",
      "applicant_sex_name                184956 non-null object\n",
      "applicant_sex                     184956 non-null int64\n",
      "co_applicant_sex_name             184956 non-null object\n",
      "co_applicant_sex                  184956 non-null int64\n",
      "applicant_income_000s             158650 non-null float64\n",
      "purchaser_type_name               184956 non-null object\n",
      "purchaser_type                    184956 non-null int64\n",
      "denial_reason_name_1              11254 non-null object\n",
      "denial_reason_1                   11254 non-null float64\n",
      "denial_reason_name_2              2236 non-null object\n",
      "denial_reason_2                   2236 non-null float64\n",
      "denial_reason_name_3              401 non-null object\n",
      "denial_reason_3                   401 non-null float64\n",
      "rate_spread                       6992 non-null float64\n",
      "hoepa_status_name                 184956 non-null object\n",
      "hoepa_status                      184956 non-null int64\n",
      "lien_status_name                  184956 non-null object\n",
      "lien_status                       184956 non-null int64\n",
      "edit_status_name                  0 non-null float64\n",
      "edit_status                       0 non-null float64\n",
      "sequence_number                   0 non-null float64\n",
      "population                        184365 non-null float64\n",
      "minority_population               184365 non-null float64\n",
      "hud_median_family_income          184365 non-null float64\n",
      "tract_to_msamd_income             184365 non-null float64\n",
      "number_of_owner_occupied_units    184365 non-null float64\n",
      "number_of_1_to_4_family_units     184365 non-null float64\n",
      "application_date_indicator        0 non-null float64\n",
      "dtypes: float64(27), int64(18), object(33)\n",
      "memory usage: 111.5+ MB\n"
     ]
    }
   ],
   "source": [
    "df_mortgage_hp_2017.info()"
   ]
  },
  {
   "cell_type": "code",
   "execution_count": 17,
   "metadata": {},
   "outputs": [],
   "source": [
    "## HOEPA status was enacted in 1994 to prevent abusive lending practices especially in elderly and minority class borrowers."
   ]
  },
  {
   "cell_type": "code",
   "execution_count": 18,
   "metadata": {},
   "outputs": [
    {
     "data": {
      "text/html": [
       "<div>\n",
       "<style scoped>\n",
       "    .dataframe tbody tr th:only-of-type {\n",
       "        vertical-align: middle;\n",
       "    }\n",
       "\n",
       "    .dataframe tbody tr th {\n",
       "        vertical-align: top;\n",
       "    }\n",
       "\n",
       "    .dataframe thead th {\n",
       "        text-align: right;\n",
       "    }\n",
       "</style>\n",
       "<table border=\"1\" class=\"dataframe\">\n",
       "  <thead>\n",
       "    <tr style=\"text-align: right;\">\n",
       "      <th></th>\n",
       "      <th>respondent_id</th>\n",
       "      <th>agency_abbr</th>\n",
       "      <th>agency_code</th>\n",
       "      <th>loan_type_name</th>\n",
       "      <th>loan_type</th>\n",
       "      <th>property_type_name</th>\n",
       "      <th>property_type</th>\n",
       "      <th>loan_purpose_name</th>\n",
       "      <th>loan_purpose</th>\n",
       "      <th>owner_occupancy_name</th>\n",
       "      <th>...</th>\n",
       "      <th>denial_reason_name_2</th>\n",
       "      <th>denial_reason_name_3</th>\n",
       "      <th>lien_status_name</th>\n",
       "      <th>lien_status</th>\n",
       "      <th>population</th>\n",
       "      <th>minority_population</th>\n",
       "      <th>hud_median_family_income</th>\n",
       "      <th>tract_to_msamd_income</th>\n",
       "      <th>number_of_owner_occupied_units</th>\n",
       "      <th>number_of_1_to_4_family_units</th>\n",
       "    </tr>\n",
       "  </thead>\n",
       "  <tbody>\n",
       "    <tr>\n",
       "      <th>0</th>\n",
       "      <td>62-1532940</td>\n",
       "      <td>HUD</td>\n",
       "      <td>7</td>\n",
       "      <td>Conventional</td>\n",
       "      <td>1</td>\n",
       "      <td>One-to-four family dwelling (other than manufa...</td>\n",
       "      <td>1</td>\n",
       "      <td>Home purchase</td>\n",
       "      <td>1</td>\n",
       "      <td>Owner-occupied as a principal dwelling</td>\n",
       "      <td>...</td>\n",
       "      <td>NaN</td>\n",
       "      <td>NaN</td>\n",
       "      <td>Not applicable</td>\n",
       "      <td>4</td>\n",
       "      <td>6278.0</td>\n",
       "      <td>27.830000</td>\n",
       "      <td>91500.0</td>\n",
       "      <td>144.710007</td>\n",
       "      <td>1975.0</td>\n",
       "      <td>2018.0</td>\n",
       "    </tr>\n",
       "    <tr>\n",
       "      <th>1</th>\n",
       "      <td>80-0743699</td>\n",
       "      <td>HUD</td>\n",
       "      <td>7</td>\n",
       "      <td>FHA-insured</td>\n",
       "      <td>2</td>\n",
       "      <td>One-to-four family dwelling (other than manufa...</td>\n",
       "      <td>1</td>\n",
       "      <td>Home purchase</td>\n",
       "      <td>1</td>\n",
       "      <td>Owner-occupied as a principal dwelling</td>\n",
       "      <td>...</td>\n",
       "      <td>NaN</td>\n",
       "      <td>NaN</td>\n",
       "      <td>Secured by a first lien</td>\n",
       "      <td>1</td>\n",
       "      <td>NaN</td>\n",
       "      <td>NaN</td>\n",
       "      <td>NaN</td>\n",
       "      <td>NaN</td>\n",
       "      <td>NaN</td>\n",
       "      <td>NaN</td>\n",
       "    </tr>\n",
       "    <tr>\n",
       "      <th>4</th>\n",
       "      <td>80-0743699</td>\n",
       "      <td>HUD</td>\n",
       "      <td>7</td>\n",
       "      <td>Conventional</td>\n",
       "      <td>1</td>\n",
       "      <td>One-to-four family dwelling (other than manufa...</td>\n",
       "      <td>1</td>\n",
       "      <td>Home purchase</td>\n",
       "      <td>1</td>\n",
       "      <td>Owner-occupied as a principal dwelling</td>\n",
       "      <td>...</td>\n",
       "      <td>NaN</td>\n",
       "      <td>NaN</td>\n",
       "      <td>Secured by a first lien</td>\n",
       "      <td>1</td>\n",
       "      <td>NaN</td>\n",
       "      <td>NaN</td>\n",
       "      <td>NaN</td>\n",
       "      <td>NaN</td>\n",
       "      <td>NaN</td>\n",
       "      <td>NaN</td>\n",
       "    </tr>\n",
       "    <tr>\n",
       "      <th>5</th>\n",
       "      <td>4114567</td>\n",
       "      <td>CFPB</td>\n",
       "      <td>9</td>\n",
       "      <td>Conventional</td>\n",
       "      <td>1</td>\n",
       "      <td>One-to-four family dwelling (other than manufa...</td>\n",
       "      <td>1</td>\n",
       "      <td>Home purchase</td>\n",
       "      <td>1</td>\n",
       "      <td>Owner-occupied as a principal dwelling</td>\n",
       "      <td>...</td>\n",
       "      <td>NaN</td>\n",
       "      <td>NaN</td>\n",
       "      <td>Secured by a first lien</td>\n",
       "      <td>1</td>\n",
       "      <td>7762.0</td>\n",
       "      <td>19.000000</td>\n",
       "      <td>73700.0</td>\n",
       "      <td>238.449997</td>\n",
       "      <td>2416.0</td>\n",
       "      <td>2582.0</td>\n",
       "    </tr>\n",
       "    <tr>\n",
       "      <th>6</th>\n",
       "      <td>595270</td>\n",
       "      <td>CFPB</td>\n",
       "      <td>9</td>\n",
       "      <td>FHA-insured</td>\n",
       "      <td>2</td>\n",
       "      <td>One-to-four family dwelling (other than manufa...</td>\n",
       "      <td>1</td>\n",
       "      <td>Home purchase</td>\n",
       "      <td>1</td>\n",
       "      <td>Owner-occupied as a principal dwelling</td>\n",
       "      <td>...</td>\n",
       "      <td>NaN</td>\n",
       "      <td>NaN</td>\n",
       "      <td>Not applicable</td>\n",
       "      <td>4</td>\n",
       "      <td>4662.0</td>\n",
       "      <td>38.549999</td>\n",
       "      <td>91500.0</td>\n",
       "      <td>100.639999</td>\n",
       "      <td>1664.0</td>\n",
       "      <td>1824.0</td>\n",
       "    </tr>\n",
       "  </tbody>\n",
       "</table>\n",
       "<p>5 rows × 54 columns</p>\n",
       "</div>"
      ],
      "text/plain": [
       "  respondent_id agency_abbr  agency_code loan_type_name  loan_type  \\\n",
       "0    62-1532940         HUD            7   Conventional          1   \n",
       "1    80-0743699         HUD            7    FHA-insured          2   \n",
       "4    80-0743699         HUD            7   Conventional          1   \n",
       "5       4114567        CFPB            9   Conventional          1   \n",
       "6        595270        CFPB            9    FHA-insured          2   \n",
       "\n",
       "                                  property_type_name  property_type  \\\n",
       "0  One-to-four family dwelling (other than manufa...              1   \n",
       "1  One-to-four family dwelling (other than manufa...              1   \n",
       "4  One-to-four family dwelling (other than manufa...              1   \n",
       "5  One-to-four family dwelling (other than manufa...              1   \n",
       "6  One-to-four family dwelling (other than manufa...              1   \n",
       "\n",
       "  loan_purpose_name  loan_purpose                    owner_occupancy_name  \\\n",
       "0     Home purchase             1  Owner-occupied as a principal dwelling   \n",
       "1     Home purchase             1  Owner-occupied as a principal dwelling   \n",
       "4     Home purchase             1  Owner-occupied as a principal dwelling   \n",
       "5     Home purchase             1  Owner-occupied as a principal dwelling   \n",
       "6     Home purchase             1  Owner-occupied as a principal dwelling   \n",
       "\n",
       "   ...  denial_reason_name_2  denial_reason_name_3         lien_status_name  \\\n",
       "0  ...                   NaN                   NaN           Not applicable   \n",
       "1  ...                   NaN                   NaN  Secured by a first lien   \n",
       "4  ...                   NaN                   NaN  Secured by a first lien   \n",
       "5  ...                   NaN                   NaN  Secured by a first lien   \n",
       "6  ...                   NaN                   NaN           Not applicable   \n",
       "\n",
       "   lien_status population  minority_population hud_median_family_income  \\\n",
       "0            4     6278.0            27.830000                  91500.0   \n",
       "1            1        NaN                  NaN                      NaN   \n",
       "4            1        NaN                  NaN                      NaN   \n",
       "5            1     7762.0            19.000000                  73700.0   \n",
       "6            4     4662.0            38.549999                  91500.0   \n",
       "\n",
       "   tract_to_msamd_income number_of_owner_occupied_units  \\\n",
       "0             144.710007                         1975.0   \n",
       "1                    NaN                            NaN   \n",
       "4                    NaN                            NaN   \n",
       "5             238.449997                         2416.0   \n",
       "6             100.639999                         1664.0   \n",
       "\n",
       "   number_of_1_to_4_family_units  \n",
       "0                         2018.0  \n",
       "1                            NaN  \n",
       "4                            NaN  \n",
       "5                         2582.0  \n",
       "6                         1824.0  \n",
       "\n",
       "[5 rows x 54 columns]"
      ]
     },
     "execution_count": 18,
     "metadata": {},
     "output_type": "execute_result"
    }
   ],
   "source": [
    "#drop ['agency_name','property_type', 'owner_occupancy', 'sequence_number', 'edit_status','edit_status_name','application_date_indicator'\n",
    "#      'hoepa_status_name', 'hoepa_status', 'rate_spread','respondent_id','as_of_year']\n",
    "df_mortgage_approval_2017 = df_mortgage_hp_2017.drop(['agency_name', 'sequence_number',\n",
    "                                                      'edit_status','edit_status_name','application_date_indicator',\n",
    "                                                      'hoepa_status_name', 'hoepa_status', 'rate_spread','as_of_year',\n",
    "                                                      'state_name', 'state_abbr', 'state_code','census_tract_number',\n",
    "                                                      'applicant_race_2', 'applicant_race_3', 'applicant_race_4', 'applicant_race_5',\n",
    "                                                      'co_applicant_race_2', 'co_applicant_race_3',\n",
    "                                                      'co_applicant_race_4', 'co_applicant_race_5', 'denial_reason_1',\n",
    "                                                      'denial_reason_2', 'denial_reason_3',\n",
    "                                                      ], axis=1)\n",
    "df_mortgage_approval_2017.head()"
   ]
  },
  {
   "cell_type": "code",
   "execution_count": 19,
   "metadata": {},
   "outputs": [
    {
     "name": "stdout",
     "output_type": "stream",
     "text": [
      "<class 'pandas.core.frame.DataFrame'>\n",
      "Int64Index: 184956 entries, 0 to 349562\n",
      "Data columns (total 54 columns):\n",
      "respondent_id                     184956 non-null object\n",
      "agency_abbr                       184956 non-null object\n",
      "agency_code                       184956 non-null int64\n",
      "loan_type_name                    184956 non-null object\n",
      "loan_type                         184956 non-null int64\n",
      "property_type_name                184956 non-null object\n",
      "property_type                     184956 non-null int64\n",
      "loan_purpose_name                 184956 non-null object\n",
      "loan_purpose                      184956 non-null int64\n",
      "owner_occupancy_name              184956 non-null object\n",
      "owner_occupancy                   184956 non-null int64\n",
      "loan_amount_000s                  184928 non-null float64\n",
      "preapproval_name                  184956 non-null object\n",
      "preapproval                       184956 non-null int64\n",
      "action_taken_name                 184956 non-null object\n",
      "action_taken                      184956 non-null int64\n",
      "msamd_name                        184332 non-null object\n",
      "msamd                             184348 non-null float64\n",
      "county_name                       184373 non-null object\n",
      "county_code                       184373 non-null float64\n",
      "applicant_ethnicity_name          184956 non-null object\n",
      "applicant_ethnicity               184956 non-null int64\n",
      "co_applicant_ethnicity_name       184956 non-null object\n",
      "co_applicant_ethnicity            184956 non-null int64\n",
      "applicant_race_name_1             184956 non-null object\n",
      "applicant_race_1                  184956 non-null int64\n",
      "applicant_race_name_2             776 non-null object\n",
      "applicant_race_name_3             50 non-null object\n",
      "applicant_race_name_4             5 non-null object\n",
      "applicant_race_name_5             3 non-null object\n",
      "co_applicant_race_name_1          184956 non-null object\n",
      "co_applicant_race_1               184956 non-null int64\n",
      "co_applicant_race_name_2          291 non-null object\n",
      "co_applicant_race_name_3          10 non-null object\n",
      "co_applicant_race_name_4          1 non-null object\n",
      "co_applicant_race_name_5          1 non-null object\n",
      "applicant_sex_name                184956 non-null object\n",
      "applicant_sex                     184956 non-null int64\n",
      "co_applicant_sex_name             184956 non-null object\n",
      "co_applicant_sex                  184956 non-null int64\n",
      "applicant_income_000s             158650 non-null float64\n",
      "purchaser_type_name               184956 non-null object\n",
      "purchaser_type                    184956 non-null int64\n",
      "denial_reason_name_1              11254 non-null object\n",
      "denial_reason_name_2              2236 non-null object\n",
      "denial_reason_name_3              401 non-null object\n",
      "lien_status_name                  184956 non-null object\n",
      "lien_status                       184956 non-null int64\n",
      "population                        184365 non-null float64\n",
      "minority_population               184365 non-null float64\n",
      "hud_median_family_income          184365 non-null float64\n",
      "tract_to_msamd_income             184365 non-null float64\n",
      "number_of_owner_occupied_units    184365 non-null float64\n",
      "number_of_1_to_4_family_units     184365 non-null float64\n",
      "dtypes: float64(10), int64(15), object(29)\n",
      "memory usage: 77.6+ MB\n"
     ]
    }
   ],
   "source": [
    "df_mortgage_approval_2017.info()"
   ]
  },
  {
   "cell_type": "code",
   "execution_count": 20,
   "metadata": {
    "scrolled": true
   },
   "outputs": [
    {
     "data": {
      "text/plain": [
       "respondent_id                          0\n",
       "agency_abbr                            0\n",
       "agency_code                            0\n",
       "loan_type_name                         0\n",
       "loan_type                              0\n",
       "property_type_name                     0\n",
       "property_type                          0\n",
       "loan_purpose_name                      0\n",
       "loan_purpose                           0\n",
       "owner_occupancy_name                   0\n",
       "owner_occupancy                        0\n",
       "loan_amount_000s                      28\n",
       "preapproval_name                       0\n",
       "preapproval                            0\n",
       "action_taken_name                      0\n",
       "action_taken                           0\n",
       "msamd_name                           624\n",
       "msamd                                608\n",
       "county_name                          583\n",
       "county_code                          583\n",
       "applicant_ethnicity_name               0\n",
       "applicant_ethnicity                    0\n",
       "co_applicant_ethnicity_name            0\n",
       "co_applicant_ethnicity                 0\n",
       "applicant_race_name_1                  0\n",
       "applicant_race_1                       0\n",
       "applicant_race_name_2             184180\n",
       "applicant_race_name_3             184906\n",
       "applicant_race_name_4             184951\n",
       "applicant_race_name_5             184953\n",
       "co_applicant_race_name_1               0\n",
       "co_applicant_race_1                    0\n",
       "co_applicant_race_name_2          184665\n",
       "co_applicant_race_name_3          184946\n",
       "co_applicant_race_name_4          184955\n",
       "co_applicant_race_name_5          184955\n",
       "applicant_sex_name                     0\n",
       "applicant_sex                          0\n",
       "co_applicant_sex_name                  0\n",
       "co_applicant_sex                       0\n",
       "applicant_income_000s              26306\n",
       "purchaser_type_name                    0\n",
       "purchaser_type                         0\n",
       "denial_reason_name_1              173702\n",
       "denial_reason_name_2              182720\n",
       "denial_reason_name_3              184555\n",
       "lien_status_name                       0\n",
       "lien_status                            0\n",
       "population                           591\n",
       "minority_population                  591\n",
       "hud_median_family_income             591\n",
       "tract_to_msamd_income                591\n",
       "number_of_owner_occupied_units       591\n",
       "number_of_1_to_4_family_units        591\n",
       "dtype: int64"
      ]
     },
     "execution_count": 20,
     "metadata": {},
     "output_type": "execute_result"
    }
   ],
   "source": [
    "df_mortgage_approval_2017.isna().sum()"
   ]
  },
  {
   "cell_type": "code",
   "execution_count": 21,
   "metadata": {},
   "outputs": [],
   "source": [
    "## Removing the the columns that have a greater number of Nan and does not really help in understanding the data\n",
    "# 1. All the applicant & co_applicant race names after 1: This is mostly due to the fact that not many people identify with more\n",
    "# than one race\n",
    "\n",
    "# 2. Denial Reasons: This also has a high number of Nan. This is looks like these values should actually be None vs Nan. More applicants\n",
    "# did not recieve a denial reason and were approved for a loan. \n",
    "\n",
    "# 3. The values that are below 50,000 are from the data label of either 'Not applicable and Information not provided' "
   ]
  },
  {
   "cell_type": "code",
   "execution_count": 22,
   "metadata": {},
   "outputs": [],
   "source": [
    "df_mortgage_approval_2017.drop(['applicant_race_name_2','applicant_race_name_3','applicant_race_name_4',\n",
    "                          'applicant_race_name_5',\n",
    "                          'co_applicant_race_name_2','co_applicant_race_name_3','co_applicant_race_name_4',\n",
    "                          'co_applicant_race_name_5'], axis=1, inplace=True)"
   ]
  },
  {
   "cell_type": "code",
   "execution_count": null,
   "metadata": {
    "scrolled": true
   },
   "outputs": [],
   "source": []
  },
  {
   "cell_type": "code",
   "execution_count": 23,
   "metadata": {},
   "outputs": [],
   "source": [
    "df_mortgage_approval_2017.denial_reason_name_1.replace(np.nan, 'None',inplace=True)\n",
    "df_mortgage_approval_2017.denial_reason_name_2.replace(np.nan, 'None',inplace=True)\n",
    "df_mortgage_approval_2017.denial_reason_name_3.replace(np.nan, 'None',inplace=True)"
   ]
  },
  {
   "cell_type": "code",
   "execution_count": 24,
   "metadata": {},
   "outputs": [
    {
     "data": {
      "text/plain": [
       "respondent_id                         0\n",
       "agency_abbr                           0\n",
       "agency_code                           0\n",
       "loan_type_name                        0\n",
       "loan_type                             0\n",
       "property_type_name                    0\n",
       "property_type                         0\n",
       "loan_purpose_name                     0\n",
       "loan_purpose                          0\n",
       "owner_occupancy_name                  0\n",
       "owner_occupancy                       0\n",
       "loan_amount_000s                     28\n",
       "preapproval_name                      0\n",
       "preapproval                           0\n",
       "action_taken_name                     0\n",
       "action_taken                          0\n",
       "msamd_name                          624\n",
       "msamd                               608\n",
       "county_name                         583\n",
       "county_code                         583\n",
       "applicant_ethnicity_name              0\n",
       "applicant_ethnicity                   0\n",
       "co_applicant_ethnicity_name           0\n",
       "co_applicant_ethnicity                0\n",
       "applicant_race_name_1                 0\n",
       "applicant_race_1                      0\n",
       "co_applicant_race_name_1              0\n",
       "co_applicant_race_1                   0\n",
       "applicant_sex_name                    0\n",
       "applicant_sex                         0\n",
       "co_applicant_sex_name                 0\n",
       "co_applicant_sex                      0\n",
       "applicant_income_000s             26306\n",
       "purchaser_type_name                   0\n",
       "purchaser_type                        0\n",
       "denial_reason_name_1                  0\n",
       "denial_reason_name_2                  0\n",
       "denial_reason_name_3                  0\n",
       "lien_status_name                      0\n",
       "lien_status                           0\n",
       "population                          591\n",
       "minority_population                 591\n",
       "hud_median_family_income            591\n",
       "tract_to_msamd_income               591\n",
       "number_of_owner_occupied_units      591\n",
       "number_of_1_to_4_family_units       591\n",
       "dtype: int64"
      ]
     },
     "execution_count": 24,
     "metadata": {},
     "output_type": "execute_result"
    }
   ],
   "source": [
    "df_mortgage_approval_2017.isna().sum()"
   ]
  },
  {
   "cell_type": "code",
   "execution_count": 25,
   "metadata": {},
   "outputs": [
    {
     "data": {
      "text/plain": [
       "respondent_id                     184956\n",
       "agency_abbr                       184956\n",
       "agency_code                       184956\n",
       "loan_type_name                    184956\n",
       "loan_type                         184956\n",
       "property_type_name                184956\n",
       "property_type                     184956\n",
       "loan_purpose_name                 184956\n",
       "loan_purpose                      184956\n",
       "owner_occupancy_name              184270\n",
       "owner_occupancy                   184270\n",
       "loan_amount_000s                  184928\n",
       "preapproval_name                  184956\n",
       "preapproval                       184956\n",
       "action_taken_name                 184956\n",
       "action_taken                      184956\n",
       "msamd_name                        184332\n",
       "msamd                             184348\n",
       "county_name                       184373\n",
       "county_code                       184373\n",
       "applicant_ethnicity_name          139705\n",
       "applicant_ethnicity               139705\n",
       "co_applicant_ethnicity_name       152319\n",
       "co_applicant_ethnicity            152319\n",
       "applicant_race_name_1             137353\n",
       "applicant_race_1                  137353\n",
       "co_applicant_race_name_1          151437\n",
       "co_applicant_race_1               151437\n",
       "applicant_sex_name                146550\n",
       "applicant_sex                     146550\n",
       "co_applicant_sex_name             155550\n",
       "co_applicant_sex                  155550\n",
       "applicant_income_000s             158650\n",
       "purchaser_type_name               184956\n",
       "purchaser_type                    184956\n",
       "denial_reason_name_1              184956\n",
       "denial_reason_name_2              184956\n",
       "denial_reason_name_3              184956\n",
       "lien_status_name                  144845\n",
       "lien_status                       144845\n",
       "population                        184365\n",
       "minority_population               184365\n",
       "hud_median_family_income          184365\n",
       "tract_to_msamd_income             184365\n",
       "number_of_owner_occupied_units    184365\n",
       "number_of_1_to_4_family_units     184365\n",
       "dtype: int64"
      ]
     },
     "execution_count": 25,
     "metadata": {},
     "output_type": "execute_result"
    }
   ],
   "source": [
    "# Replace\n",
    "replace_dict = {\n",
    "    'owner_occupancy': 3,\n",
    "    'owner_occupancy_name': 'Not applicable',\n",
    "    'applicant_ethnicity': [4, 3],\n",
    "    'applicant_ethnicity_name': ['Not applicable', 'Information not provided by applicant in mail, Internet, or telephone application'],\n",
    "    'co_applicant_ethnicity': [4, 3],\n",
    "    'co_applicant_ethnicity_name': ['Not applicable', 'Information not provided by applicant in mail, Internet, or telephone application'],\n",
    "    'applicant_race_1':[7,6],\n",
    "    'applicant_race_name_1':['Not applicable', 'Information not provided by applicant in mail, Internet, or telephone application'],\n",
    "    'co_applicant_race_1':[7,6],\n",
    "    'co_applicant_race_name_1':['Not applicable', 'Information not provided by applicant in mail, Internet, or telephone application'],\n",
    "    'lien_status': 4,\n",
    "    'lien_status_name': ['Not applicable'],\n",
    "    'applicant_sex': [4, 3],\n",
    "    'applicant_sex_name': ['Not applicable', 'Information not provided by applicant in mail, Internet, or telephone application'],\n",
    "    'co_applicant_sex': [4, 3],\n",
    "    'co_applicant_sex_name': ['Not applicable', 'Information not provided by applicant in mail, Internet, or telephone application']\n",
    "}\n",
    "\n",
    "df_mortgage_approval_2017.replace(replace_dict, np.nan, inplace=True)\n",
    "df_mortgage_approval_2017.count()"
   ]
  },
  {
   "cell_type": "code",
   "execution_count": 26,
   "metadata": {},
   "outputs": [
    {
     "data": {
      "text/plain": [
       "respondent_id                         0\n",
       "agency_abbr                           0\n",
       "agency_code                           0\n",
       "loan_type_name                        0\n",
       "loan_type                             0\n",
       "property_type_name                    0\n",
       "property_type                         0\n",
       "loan_purpose_name                     0\n",
       "loan_purpose                          0\n",
       "owner_occupancy_name                686\n",
       "owner_occupancy                     686\n",
       "loan_amount_000s                     28\n",
       "preapproval_name                      0\n",
       "preapproval                           0\n",
       "action_taken_name                     0\n",
       "action_taken                          0\n",
       "msamd_name                          624\n",
       "msamd                               608\n",
       "county_name                         583\n",
       "county_code                         583\n",
       "applicant_ethnicity_name          45251\n",
       "applicant_ethnicity               45251\n",
       "co_applicant_ethnicity_name       32637\n",
       "co_applicant_ethnicity            32637\n",
       "applicant_race_name_1             47603\n",
       "applicant_race_1                  47603\n",
       "co_applicant_race_name_1          33519\n",
       "co_applicant_race_1               33519\n",
       "applicant_sex_name                38406\n",
       "applicant_sex                     38406\n",
       "co_applicant_sex_name             29406\n",
       "co_applicant_sex                  29406\n",
       "applicant_income_000s             26306\n",
       "purchaser_type_name                   0\n",
       "purchaser_type                        0\n",
       "denial_reason_name_1                  0\n",
       "denial_reason_name_2                  0\n",
       "denial_reason_name_3                  0\n",
       "lien_status_name                  40111\n",
       "lien_status                       40111\n",
       "population                          591\n",
       "minority_population                 591\n",
       "hud_median_family_income            591\n",
       "tract_to_msamd_income               591\n",
       "number_of_owner_occupied_units      591\n",
       "number_of_1_to_4_family_units       591\n",
       "dtype: int64"
      ]
     },
     "execution_count": 26,
     "metadata": {},
     "output_type": "execute_result"
    }
   ],
   "source": [
    "df_mortgage_approval_2017.isna().sum()"
   ]
  },
  {
   "cell_type": "code",
   "execution_count": 27,
   "metadata": {},
   "outputs": [],
   "source": [
    "df = df_mortgage_approval_2017"
   ]
  },
  {
   "cell_type": "code",
   "execution_count": 28,
   "metadata": {},
   "outputs": [
    {
     "name": "stdout",
     "output_type": "stream",
     "text": [
      "<class 'pandas.core.frame.DataFrame'>\n",
      "Int64Index: 11254 entries, 21 to 349511\n",
      "Data columns (total 46 columns):\n",
      "respondent_id                     11254 non-null object\n",
      "agency_abbr                       11254 non-null object\n",
      "agency_code                       11254 non-null int64\n",
      "loan_type_name                    11254 non-null object\n",
      "loan_type                         11254 non-null int64\n",
      "property_type_name                11254 non-null object\n",
      "property_type                     11254 non-null int64\n",
      "loan_purpose_name                 11254 non-null object\n",
      "loan_purpose                      11254 non-null int64\n",
      "owner_occupancy_name              11220 non-null object\n",
      "owner_occupancy                   11220 non-null float64\n",
      "loan_amount_000s                  11247 non-null float64\n",
      "preapproval_name                  11254 non-null object\n",
      "preapproval                       11254 non-null int64\n",
      "action_taken_name                 11254 non-null object\n",
      "action_taken                      11254 non-null int64\n",
      "msamd_name                        11207 non-null object\n",
      "msamd                             11207 non-null float64\n",
      "county_name                       11207 non-null object\n",
      "county_code                       11207 non-null float64\n",
      "applicant_ethnicity_name          9518 non-null object\n",
      "applicant_ethnicity               9518 non-null float64\n",
      "co_applicant_ethnicity_name       10553 non-null object\n",
      "co_applicant_ethnicity            10553 non-null float64\n",
      "applicant_race_name_1             9109 non-null object\n",
      "applicant_race_1                  9109 non-null float64\n",
      "co_applicant_race_name_1          10396 non-null object\n",
      "co_applicant_race_1               10396 non-null float64\n",
      "applicant_sex_name                10105 non-null object\n",
      "applicant_sex                     10105 non-null float64\n",
      "co_applicant_sex_name             10800 non-null object\n",
      "co_applicant_sex                  10800 non-null float64\n",
      "applicant_income_000s             10892 non-null float64\n",
      "purchaser_type_name               11254 non-null object\n",
      "purchaser_type                    11254 non-null int64\n",
      "denial_reason_name_1              11254 non-null object\n",
      "denial_reason_name_2              11254 non-null object\n",
      "denial_reason_name_3              11254 non-null object\n",
      "lien_status_name                  11254 non-null object\n",
      "lien_status                       11254 non-null float64\n",
      "population                        11207 non-null float64\n",
      "minority_population               11207 non-null float64\n",
      "hud_median_family_income          11207 non-null float64\n",
      "tract_to_msamd_income             11207 non-null float64\n",
      "number_of_owner_occupied_units    11207 non-null float64\n",
      "number_of_1_to_4_family_units     11207 non-null float64\n",
      "dtypes: float64(18), int64(7), object(21)\n",
      "memory usage: 4.0+ MB\n"
     ]
    }
   ],
   "source": [
    "## Create the accepted and not accepted column\n",
    "df.loc[(df.denial_reason_name_1 != 'None')].info()"
   ]
  },
  {
   "cell_type": "code",
   "execution_count": 29,
   "metadata": {},
   "outputs": [],
   "source": [
    "df['accepted'] = [1 if denial_reason != 'None' else 0 for denial_reason in df['denial_reason_name_1']]"
   ]
  },
  {
   "cell_type": "code",
   "execution_count": 30,
   "metadata": {},
   "outputs": [
    {
     "data": {
      "text/plain": [
       "0    173702\n",
       "1     11254\n",
       "Name: accepted, dtype: int64"
      ]
     },
     "execution_count": 30,
     "metadata": {},
     "output_type": "execute_result"
    }
   ],
   "source": [
    "df['accepted'].value_counts()"
   ]
  },
  {
   "cell_type": "code",
   "execution_count": 31,
   "metadata": {},
   "outputs": [
    {
     "name": "stdout",
     "output_type": "stream",
     "text": [
      "applicant_sex_name\n",
      "Female    3306\n",
      "Male      6799\n",
      "Name: accepted, dtype: int64\n",
      "applicant_sex_name\n",
      "Female    42150\n",
      "Male      94295\n",
      "Name: accepted, dtype: int64\n"
     ]
    }
   ],
   "source": [
    "print(df.loc[df['accepted'] == 1].groupby(by=['applicant_sex_name'])['accepted'].count())\n",
    "print(df.loc[df['accepted'] == 0].groupby(by=['applicant_sex_name'])['accepted'].count())"
   ]
  },
  {
   "cell_type": "code",
   "execution_count": 32,
   "metadata": {},
   "outputs": [
    {
     "name": "stdout",
     "output_type": "stream",
     "text": [
      "<class 'pandas.core.frame.DataFrame'>\n",
      "RangeIndex: 184956 entries, 0 to 184955\n",
      "Data columns (total 47 columns):\n",
      "respondent_id                     184956 non-null object\n",
      "agency_abbr                       184956 non-null object\n",
      "agency_code                       184956 non-null int64\n",
      "loan_type_name                    184956 non-null object\n",
      "loan_type                         184956 non-null int64\n",
      "property_type_name                184956 non-null object\n",
      "property_type                     184956 non-null int64\n",
      "loan_purpose_name                 184956 non-null object\n",
      "loan_purpose                      184956 non-null int64\n",
      "owner_occupancy_name              184270 non-null object\n",
      "owner_occupancy                   184270 non-null float64\n",
      "loan_amount_000s                  184928 non-null float64\n",
      "preapproval_name                  184956 non-null object\n",
      "preapproval                       184956 non-null int64\n",
      "action_taken_name                 184956 non-null object\n",
      "action_taken                      184956 non-null int64\n",
      "msamd_name                        184332 non-null object\n",
      "msamd                             184348 non-null float64\n",
      "county_name                       184373 non-null object\n",
      "county_code                       184373 non-null float64\n",
      "applicant_ethnicity_name          139705 non-null object\n",
      "applicant_ethnicity               139705 non-null float64\n",
      "co_applicant_ethnicity_name       152319 non-null object\n",
      "co_applicant_ethnicity            152319 non-null float64\n",
      "applicant_race_name_1             137353 non-null object\n",
      "applicant_race_1                  137353 non-null float64\n",
      "co_applicant_race_name_1          151437 non-null object\n",
      "co_applicant_race_1               151437 non-null float64\n",
      "applicant_sex_name                146550 non-null object\n",
      "applicant_sex                     146550 non-null float64\n",
      "co_applicant_sex_name             155550 non-null object\n",
      "co_applicant_sex                  155550 non-null float64\n",
      "applicant_income_000s             158650 non-null float64\n",
      "purchaser_type_name               184956 non-null object\n",
      "purchaser_type                    184956 non-null int64\n",
      "denial_reason_name_1              184956 non-null object\n",
      "denial_reason_name_2              184956 non-null object\n",
      "denial_reason_name_3              184956 non-null object\n",
      "lien_status_name                  144845 non-null object\n",
      "lien_status                       144845 non-null float64\n",
      "population                        184365 non-null float64\n",
      "minority_population               184365 non-null float64\n",
      "hud_median_family_income          184365 non-null float64\n",
      "tract_to_msamd_income             184365 non-null float64\n",
      "number_of_owner_occupied_units    184365 non-null float64\n",
      "number_of_1_to_4_family_units     184365 non-null float64\n",
      "accepted                          184956 non-null int64\n",
      "dtypes: float64(18), int64(8), object(21)\n",
      "memory usage: 66.3+ MB\n"
     ]
    }
   ],
   "source": [
    "df.reset_index(drop=True).info()"
   ]
  },
  {
   "cell_type": "code",
   "execution_count": 33,
   "metadata": {},
   "outputs": [],
   "source": [
    "df['index'] = df.index"
   ]
  },
  {
   "cell_type": "code",
   "execution_count": 34,
   "metadata": {
    "scrolled": true
   },
   "outputs": [
    {
     "name": "stdout",
     "output_type": "stream",
     "text": [
      "<class 'pandas.core.frame.DataFrame'>\n",
      "Int64Index: 184956 entries, 0 to 349562\n",
      "Data columns (total 48 columns):\n",
      "respondent_id                     184956 non-null object\n",
      "agency_abbr                       184956 non-null object\n",
      "agency_code                       184956 non-null int64\n",
      "loan_type_name                    184956 non-null object\n",
      "loan_type                         184956 non-null int64\n",
      "property_type_name                184956 non-null object\n",
      "property_type                     184956 non-null int64\n",
      "loan_purpose_name                 184956 non-null object\n",
      "loan_purpose                      184956 non-null int64\n",
      "owner_occupancy_name              184270 non-null object\n",
      "owner_occupancy                   184270 non-null float64\n",
      "loan_amount_000s                  184928 non-null float64\n",
      "preapproval_name                  184956 non-null object\n",
      "preapproval                       184956 non-null int64\n",
      "action_taken_name                 184956 non-null object\n",
      "action_taken                      184956 non-null int64\n",
      "msamd_name                        184332 non-null object\n",
      "msamd                             184348 non-null float64\n",
      "county_name                       184373 non-null object\n",
      "county_code                       184373 non-null float64\n",
      "applicant_ethnicity_name          139705 non-null object\n",
      "applicant_ethnicity               139705 non-null float64\n",
      "co_applicant_ethnicity_name       152319 non-null object\n",
      "co_applicant_ethnicity            152319 non-null float64\n",
      "applicant_race_name_1             137353 non-null object\n",
      "applicant_race_1                  137353 non-null float64\n",
      "co_applicant_race_name_1          151437 non-null object\n",
      "co_applicant_race_1               151437 non-null float64\n",
      "applicant_sex_name                146550 non-null object\n",
      "applicant_sex                     146550 non-null float64\n",
      "co_applicant_sex_name             155550 non-null object\n",
      "co_applicant_sex                  155550 non-null float64\n",
      "applicant_income_000s             158650 non-null float64\n",
      "purchaser_type_name               184956 non-null object\n",
      "purchaser_type                    184956 non-null int64\n",
      "denial_reason_name_1              184956 non-null object\n",
      "denial_reason_name_2              184956 non-null object\n",
      "denial_reason_name_3              184956 non-null object\n",
      "lien_status_name                  144845 non-null object\n",
      "lien_status                       144845 non-null float64\n",
      "population                        184365 non-null float64\n",
      "minority_population               184365 non-null float64\n",
      "hud_median_family_income          184365 non-null float64\n",
      "tract_to_msamd_income             184365 non-null float64\n",
      "number_of_owner_occupied_units    184365 non-null float64\n",
      "number_of_1_to_4_family_units     184365 non-null float64\n",
      "accepted                          184956 non-null int64\n",
      "index                             184956 non-null int64\n",
      "dtypes: float64(18), int64(9), object(21)\n",
      "memory usage: 69.1+ MB\n"
     ]
    }
   ],
   "source": [
    "df.info()"
   ]
  },
  {
   "cell_type": "code",
   "execution_count": 35,
   "metadata": {},
   "outputs": [
    {
     "data": {
      "text/plain": [
       "True"
      ]
     },
     "execution_count": 35,
     "metadata": {},
     "output_type": "execute_result"
    }
   ],
   "source": [
    "df.index.is_unique"
   ]
  },
  {
   "cell_type": "code",
   "execution_count": 36,
   "metadata": {},
   "outputs": [],
   "source": [
    "denial_reason= df.denial_reason_name_1.unique().tolist()[1::]"
   ]
  },
  {
   "cell_type": "code",
   "execution_count": 37,
   "metadata": {},
   "outputs": [
    {
     "data": {
      "text/plain": [
       "['Insufficient cash (downpayment, closing costs)',\n",
       " 'Debt-to-income ratio',\n",
       " 'Other',\n",
       " 'Credit history',\n",
       " 'Unverifiable information',\n",
       " 'Collateral',\n",
       " 'Credit application incomplete',\n",
       " 'Employment history',\n",
       " 'Mortgage insurance denied']"
      ]
     },
     "execution_count": 37,
     "metadata": {},
     "output_type": "execute_result"
    }
   ],
   "source": [
    "denial_reason"
   ]
  },
  {
   "cell_type": "code",
   "execution_count": 38,
   "metadata": {},
   "outputs": [],
   "source": [
    "def modified_dataframe(denial_reason, df):\n",
    "    df = df.copy(deep=True)\n",
    "    df_new = df.loc[(df.denial_reason_name_1 == denial_reason) | (df.denial_reason_name_2 == denial_reason) |\n",
    "                              (df.denial_reason_name_3 == denial_reason)]\n",
    "\n",
    "    df_new[denial_reason] = [1 for i in range(0, df_new.shape[0])]\n",
    "    \n",
    "    return df_new"
   ]
  },
  {
   "cell_type": "code",
   "execution_count": 39,
   "metadata": {},
   "outputs": [
    {
     "name": "stderr",
     "output_type": "stream",
     "text": [
      "C:\\Users\\egust\\anaconda3\\envs\\learn-env\\lib\\site-packages\\ipykernel_launcher.py:6: SettingWithCopyWarning: \n",
      "A value is trying to be set on a copy of a slice from a DataFrame.\n",
      "Try using .loc[row_indexer,col_indexer] = value instead\n",
      "\n",
      "See the caveats in the documentation: http://pandas.pydata.org/pandas-docs/stable/user_guide/indexing.html#returning-a-view-versus-a-copy\n",
      "  \n"
     ]
    }
   ],
   "source": [
    "for i in denial_reason:\n",
    "    df = pd.merge(df,modified_dataframe(i,df).loc[:,['index', i]], on='index', how='outer')"
   ]
  },
  {
   "cell_type": "code",
   "execution_count": 40,
   "metadata": {
    "scrolled": false
   },
   "outputs": [
    {
     "name": "stdout",
     "output_type": "stream",
     "text": [
      "<class 'pandas.core.frame.DataFrame'>\n",
      "Int64Index: 184956 entries, 0 to 184955\n",
      "Data columns (total 57 columns):\n",
      "respondent_id                                     184956 non-null object\n",
      "agency_abbr                                       184956 non-null object\n",
      "agency_code                                       184956 non-null int64\n",
      "loan_type_name                                    184956 non-null object\n",
      "loan_type                                         184956 non-null int64\n",
      "property_type_name                                184956 non-null object\n",
      "property_type                                     184956 non-null int64\n",
      "loan_purpose_name                                 184956 non-null object\n",
      "loan_purpose                                      184956 non-null int64\n",
      "owner_occupancy_name                              184270 non-null object\n",
      "owner_occupancy                                   184270 non-null float64\n",
      "loan_amount_000s                                  184928 non-null float64\n",
      "preapproval_name                                  184956 non-null object\n",
      "preapproval                                       184956 non-null int64\n",
      "action_taken_name                                 184956 non-null object\n",
      "action_taken                                      184956 non-null int64\n",
      "msamd_name                                        184332 non-null object\n",
      "msamd                                             184348 non-null float64\n",
      "county_name                                       184373 non-null object\n",
      "county_code                                       184373 non-null float64\n",
      "applicant_ethnicity_name                          139705 non-null object\n",
      "applicant_ethnicity                               139705 non-null float64\n",
      "co_applicant_ethnicity_name                       152319 non-null object\n",
      "co_applicant_ethnicity                            152319 non-null float64\n",
      "applicant_race_name_1                             137353 non-null object\n",
      "applicant_race_1                                  137353 non-null float64\n",
      "co_applicant_race_name_1                          151437 non-null object\n",
      "co_applicant_race_1                               151437 non-null float64\n",
      "applicant_sex_name                                146550 non-null object\n",
      "applicant_sex                                     146550 non-null float64\n",
      "co_applicant_sex_name                             155550 non-null object\n",
      "co_applicant_sex                                  155550 non-null float64\n",
      "applicant_income_000s                             158650 non-null float64\n",
      "purchaser_type_name                               184956 non-null object\n",
      "purchaser_type                                    184956 non-null int64\n",
      "denial_reason_name_1                              184956 non-null object\n",
      "denial_reason_name_2                              184956 non-null object\n",
      "denial_reason_name_3                              184956 non-null object\n",
      "lien_status_name                                  144845 non-null object\n",
      "lien_status                                       144845 non-null float64\n",
      "population                                        184365 non-null float64\n",
      "minority_population                               184365 non-null float64\n",
      "hud_median_family_income                          184365 non-null float64\n",
      "tract_to_msamd_income                             184365 non-null float64\n",
      "number_of_owner_occupied_units                    184365 non-null float64\n",
      "number_of_1_to_4_family_units                     184365 non-null float64\n",
      "accepted                                          184956 non-null int64\n",
      "index                                             184956 non-null int64\n",
      "Insufficient cash (downpayment, closing costs)    976 non-null float64\n",
      "Debt-to-income ratio                              3532 non-null float64\n",
      "Other                                             1928 non-null float64\n",
      "Credit history                                    1625 non-null float64\n",
      "Unverifiable information                          705 non-null float64\n",
      "Collateral                                        2595 non-null float64\n",
      "Credit application incomplete                     2090 non-null float64\n",
      "Employment history                                410 non-null float64\n",
      "Mortgage insurance denied                         30 non-null float64\n",
      "dtypes: float64(27), int64(9), object(21)\n",
      "memory usage: 81.8+ MB\n"
     ]
    }
   ],
   "source": [
    "df.info()"
   ]
  },
  {
   "cell_type": "code",
   "execution_count": 41,
   "metadata": {},
   "outputs": [
    {
     "data": {
      "text/plain": [
       "respondent_id                                          0\n",
       "agency_abbr                                            0\n",
       "agency_code                                            0\n",
       "loan_type_name                                         0\n",
       "loan_type                                              0\n",
       "property_type_name                                     0\n",
       "property_type                                          0\n",
       "loan_purpose_name                                      0\n",
       "loan_purpose                                           0\n",
       "owner_occupancy_name                                 686\n",
       "owner_occupancy                                      686\n",
       "loan_amount_000s                                      28\n",
       "preapproval_name                                       0\n",
       "preapproval                                            0\n",
       "action_taken_name                                      0\n",
       "action_taken                                           0\n",
       "msamd_name                                           624\n",
       "msamd                                                608\n",
       "county_name                                          583\n",
       "county_code                                          583\n",
       "applicant_ethnicity_name                           45251\n",
       "applicant_ethnicity                                45251\n",
       "co_applicant_ethnicity_name                        32637\n",
       "co_applicant_ethnicity                             32637\n",
       "applicant_race_name_1                              47603\n",
       "applicant_race_1                                   47603\n",
       "co_applicant_race_name_1                           33519\n",
       "co_applicant_race_1                                33519\n",
       "applicant_sex_name                                 38406\n",
       "applicant_sex                                      38406\n",
       "co_applicant_sex_name                              29406\n",
       "co_applicant_sex                                   29406\n",
       "applicant_income_000s                              26306\n",
       "purchaser_type_name                                    0\n",
       "purchaser_type                                         0\n",
       "denial_reason_name_1                                   0\n",
       "denial_reason_name_2                                   0\n",
       "denial_reason_name_3                                   0\n",
       "lien_status_name                                   40111\n",
       "lien_status                                        40111\n",
       "population                                           591\n",
       "minority_population                                  591\n",
       "hud_median_family_income                             591\n",
       "tract_to_msamd_income                                591\n",
       "number_of_owner_occupied_units                       591\n",
       "number_of_1_to_4_family_units                        591\n",
       "accepted                                               0\n",
       "index                                                  0\n",
       "Insufficient cash (downpayment, closing costs)    183980\n",
       "Debt-to-income ratio                              181424\n",
       "Other                                             183028\n",
       "Credit history                                    183331\n",
       "Unverifiable information                          184251\n",
       "Collateral                                        182361\n",
       "Credit application incomplete                     182866\n",
       "Employment history                                184546\n",
       "Mortgage insurance denied                         184926\n",
       "dtype: int64"
      ]
     },
     "execution_count": 41,
     "metadata": {},
     "output_type": "execute_result"
    }
   ],
   "source": [
    "df.isna().sum()"
   ]
  },
  {
   "cell_type": "code",
   "execution_count": 42,
   "metadata": {},
   "outputs": [],
   "source": [
    "df.columns = df.columns.str.replace(' ','_')\n",
    "df.columns = df.columns.str.replace('-','_')\n",
    "df.columns = df.columns.str.replace('(downpayment,_closing_costs)','')\n",
    "df.columns = df.columns.str.replace('(','')\n",
    "df.columns = df.columns.str.replace(')','')"
   ]
  },
  {
   "cell_type": "code",
   "execution_count": 43,
   "metadata": {},
   "outputs": [],
   "source": [
    "replace_dict = {\n",
    "    'Insufficient_cash_': np.nan,\n",
    "    'Debt_to_income_ratio': np.nan,\n",
    "    'Other': np.nan,\n",
    "    'Credit_history': np.nan,\n",
    "    'Unverifiable_information': np.nan,\n",
    "    'Collateral': np.nan,\n",
    "    'Credit_application_incomplete': np.nan,\n",
    "    'Employment_history': np.nan,\n",
    "    'Mortgage_insurance_denied': np.nan,\n",
    "}\n",
    "\n",
    "df.replace(replace_dict, 0, inplace=True)\n",
    "    "
   ]
  },
  {
   "cell_type": "code",
   "execution_count": 44,
   "metadata": {},
   "outputs": [],
   "source": [
    "df.iloc[:, 39:50].replace(np.nan, 0, inplace=True)"
   ]
  },
  {
   "cell_type": "code",
   "execution_count": 45,
   "metadata": {},
   "outputs": [
    {
     "data": {
      "text/plain": [
       "0.0    182361\n",
       "1.0      2595\n",
       "Name: Collateral, dtype: int64"
      ]
     },
     "execution_count": 45,
     "metadata": {},
     "output_type": "execute_result"
    }
   ],
   "source": [
    "df.Collateral.value_counts()"
   ]
  },
  {
   "cell_type": "code",
   "execution_count": 46,
   "metadata": {},
   "outputs": [
    {
     "name": "stdout",
     "output_type": "stream",
     "text": [
      "<class 'pandas.core.frame.DataFrame'>\n",
      "Int64Index: 184956 entries, 0 to 184955\n",
      "Data columns (total 57 columns):\n",
      "respondent_id                     184956 non-null object\n",
      "agency_abbr                       184956 non-null object\n",
      "agency_code                       184956 non-null int64\n",
      "loan_type_name                    184956 non-null object\n",
      "loan_type                         184956 non-null int64\n",
      "property_type_name                184956 non-null object\n",
      "property_type                     184956 non-null int64\n",
      "loan_purpose_name                 184956 non-null object\n",
      "loan_purpose                      184956 non-null int64\n",
      "owner_occupancy_name              184270 non-null object\n",
      "owner_occupancy                   184270 non-null float64\n",
      "loan_amount_000s                  184928 non-null float64\n",
      "preapproval_name                  184956 non-null object\n",
      "preapproval                       184956 non-null int64\n",
      "action_taken_name                 184956 non-null object\n",
      "action_taken                      184956 non-null int64\n",
      "msamd_name                        184332 non-null object\n",
      "msamd                             184348 non-null float64\n",
      "county_name                       184373 non-null object\n",
      "county_code                       184373 non-null float64\n",
      "applicant_ethnicity_name          139705 non-null object\n",
      "applicant_ethnicity               139705 non-null float64\n",
      "co_applicant_ethnicity_name       152319 non-null object\n",
      "co_applicant_ethnicity            152319 non-null float64\n",
      "applicant_race_name_1             137353 non-null object\n",
      "applicant_race_1                  137353 non-null float64\n",
      "co_applicant_race_name_1          151437 non-null object\n",
      "co_applicant_race_1               151437 non-null float64\n",
      "applicant_sex_name                146550 non-null object\n",
      "applicant_sex                     146550 non-null float64\n",
      "co_applicant_sex_name             155550 non-null object\n",
      "co_applicant_sex                  155550 non-null float64\n",
      "applicant_income_000s             158650 non-null float64\n",
      "purchaser_type_name               184956 non-null object\n",
      "purchaser_type                    184956 non-null int64\n",
      "denial_reason_name_1              184956 non-null object\n",
      "denial_reason_name_2              184956 non-null object\n",
      "denial_reason_name_3              184956 non-null object\n",
      "lien_status_name                  144845 non-null object\n",
      "lien_status                       144845 non-null float64\n",
      "population                        184365 non-null float64\n",
      "minority_population               184365 non-null float64\n",
      "hud_median_family_income          184365 non-null float64\n",
      "tract_to_msamd_income             184365 non-null float64\n",
      "number_of_owner_occupied_units    184365 non-null float64\n",
      "number_of_1_to_4_family_units     184365 non-null float64\n",
      "accepted                          184956 non-null int64\n",
      "index                             184956 non-null int64\n",
      "Insufficient_cash_                184956 non-null float64\n",
      "Debt_to_income_ratio              184956 non-null float64\n",
      "Other                             184956 non-null float64\n",
      "Credit_history                    184956 non-null float64\n",
      "Unverifiable_information          184956 non-null float64\n",
      "Collateral                        184956 non-null float64\n",
      "Credit_application_incomplete     184956 non-null float64\n",
      "Employment_history                184956 non-null float64\n",
      "Mortgage_insurance_denied         184956 non-null float64\n",
      "dtypes: float64(27), int64(9), object(21)\n",
      "memory usage: 81.8+ MB\n"
     ]
    }
   ],
   "source": [
    "df.info()"
   ]
  },
  {
   "cell_type": "code",
   "execution_count": 47,
   "metadata": {},
   "outputs": [
    {
     "data": {
      "text/plain": [
       "respondent_id                         0\n",
       "agency_abbr                           0\n",
       "agency_code                           0\n",
       "loan_type_name                        0\n",
       "loan_type                             0\n",
       "property_type_name                    0\n",
       "property_type                         0\n",
       "loan_purpose_name                     0\n",
       "loan_purpose                          0\n",
       "owner_occupancy_name                686\n",
       "owner_occupancy                     686\n",
       "loan_amount_000s                     28\n",
       "preapproval_name                      0\n",
       "preapproval                           0\n",
       "action_taken_name                     0\n",
       "action_taken                          0\n",
       "msamd_name                          624\n",
       "msamd                               608\n",
       "county_name                         583\n",
       "county_code                         583\n",
       "applicant_ethnicity_name          45251\n",
       "applicant_ethnicity               45251\n",
       "co_applicant_ethnicity_name       32637\n",
       "co_applicant_ethnicity            32637\n",
       "applicant_race_name_1             47603\n",
       "applicant_race_1                  47603\n",
       "co_applicant_race_name_1          33519\n",
       "co_applicant_race_1               33519\n",
       "applicant_sex_name                38406\n",
       "applicant_sex                     38406\n",
       "co_applicant_sex_name             29406\n",
       "co_applicant_sex                  29406\n",
       "applicant_income_000s             26306\n",
       "purchaser_type_name                   0\n",
       "purchaser_type                        0\n",
       "denial_reason_name_1                  0\n",
       "denial_reason_name_2                  0\n",
       "denial_reason_name_3                  0\n",
       "lien_status_name                  40111\n",
       "lien_status                       40111\n",
       "population                          591\n",
       "minority_population                 591\n",
       "hud_median_family_income            591\n",
       "tract_to_msamd_income               591\n",
       "number_of_owner_occupied_units      591\n",
       "number_of_1_to_4_family_units       591\n",
       "accepted                              0\n",
       "index                                 0\n",
       "Insufficient_cash_                    0\n",
       "Debt_to_income_ratio                  0\n",
       "Other                                 0\n",
       "Credit_history                        0\n",
       "Unverifiable_information              0\n",
       "Collateral                            0\n",
       "Credit_application_incomplete         0\n",
       "Employment_history                    0\n",
       "Mortgage_insurance_denied             0\n",
       "dtype: int64"
      ]
     },
     "execution_count": 47,
     "metadata": {},
     "output_type": "execute_result"
    }
   ],
   "source": [
    "df.isna().sum()"
   ]
  },
  {
   "cell_type": "code",
   "execution_count": 48,
   "metadata": {},
   "outputs": [
    {
     "data": {
      "text/plain": [
       "[Text(0, 0, 'White'),\n",
       " Text(0, 0, 'Asian'),\n",
       " Text(0, 0, 'Black or African American'),\n",
       " Text(0, 0, 'Native Hawaiian or Other Pacific Islander'),\n",
       " Text(0, 0, 'American Indian or Alaska Native')]"
      ]
     },
     "execution_count": 48,
     "metadata": {},
     "output_type": "execute_result"
    },
    {
     "data": {
      "image/png": "[encoded data removed]",
      "text/plain": [
       "<Figure size 1080x792 with 1 Axes>"
      ]
     },
     "metadata": {
      "needs_background": "light"
     },
     "output_type": "display_data"
    }
   ],
   "source": [
    "fig, plot = plt.subplots(figsize = (15,11))\n",
    "plot = sns.barplot(x=df.applicant_race_name_1.value_counts(),\n",
    "                   y=df.applicant_race_name_1.value_counts().index,)\n",
    "                   \n",
    "plot.set_ylabel('Races', fontsize=18)\n",
    "plot.set_xlabel('Count', fontsize=18)\n",
    "plot.set_title('applicant_race', fontsize=20)\n",
    "plot.set_yticklabels(plot.get_ymajorticklabels(), fontsize=15)"
   ]
  },
  {
   "cell_type": "code",
   "execution_count": 49,
   "metadata": {},
   "outputs": [
    {
     "data": {
      "text/plain": [
       "[Text(0, 0, 'No co-applicant'),\n",
       " Text(0, 0, 'White'),\n",
       " Text(0, 0, 'Asian'),\n",
       " Text(0, 0, 'Black or African American'),\n",
       " Text(0, 0, 'Native Hawaiian or Other Pacific Islander'),\n",
       " Text(0, 0, 'American Indian or Alaska Native')]"
      ]
     },
     "execution_count": 49,
     "metadata": {},
     "output_type": "execute_result"
    },
    {
     "data": {
      "image/png": "[encoded data removed]",
      "text/plain": [
       "<Figure size 1080x792 with 1 Axes>"
      ]
     },
     "metadata": {
      "needs_background": "light"
     },
     "output_type": "display_data"
    }
   ],
   "source": [
    "fig, plot = plt.subplots(figsize = (15,11))\n",
    "plot = sns.barplot(x=df.co_applicant_race_name_1.value_counts(),\n",
    "                   y=df.co_applicant_race_name_1.value_counts().index,)\n",
    "                   \n",
    "plot.set_ylabel('Races', fontsize=18)\n",
    "plot.set_xlabel('Count', fontsize=18)\n",
    "plot.set_title('co_applicant_race', fontsize=20)\n",
    "plot.set_yticklabels(plot.get_ymajorticklabels(), fontsize=15)"
   ]
  },
  {
   "cell_type": "code",
   "execution_count": 50,
   "metadata": {
    "scrolled": false
   },
   "outputs": [
    {
     "data": {
      "text/plain": [
       "[Text(0, 0, 'Not Hispanic or Latino'), Text(0, 0, 'Hispanic or Latino')]"
      ]
     },
     "execution_count": 50,
     "metadata": {},
     "output_type": "execute_result"
    },
    {
     "data": {
      "image/png": "[encoded data removed]",
      "text/plain": [
       "<Figure size 720x720 with 1 Axes>"
      ]
     },
     "metadata": {
      "needs_background": "light"
     },
     "output_type": "display_data"
    }
   ],
   "source": [
    "fig, plot = plt.subplots(figsize = (10,10))\n",
    "plot = sns.barplot(x=df.applicant_ethnicity_name.value_counts(),\n",
    "                   y=df.applicant_ethnicity_name.value_counts().index,)\n",
    "                   \n",
    "plot.set_ylabel('Reason for Denial', fontsize=18)\n",
    "plot.set_xlabel('Count', fontsize=18)\n",
    "plot.set_title('1st Reason for Denial', fontsize=20)\n",
    "plot.set_yticklabels(plot.get_ymajorticklabels(), fontsize=15)"
   ]
  },
  {
   "cell_type": "code",
   "execution_count": 51,
   "metadata": {},
   "outputs": [],
   "source": [
    "df = df.drop(['index','respondent_id', 'denial_reason_name_1', 'denial_reason_name_2', 'denial_reason_name_3'], axis=1)"
   ]
  },
  {
   "cell_type": "code",
   "execution_count": 52,
   "metadata": {},
   "outputs": [
    {
     "name": "stdout",
     "output_type": "stream",
     "text": [
      "<class 'pandas.core.frame.DataFrame'>\n",
      "Int64Index: 184956 entries, 0 to 184955\n",
      "Data columns (total 52 columns):\n",
      "agency_abbr                       184956 non-null object\n",
      "agency_code                       184956 non-null int64\n",
      "loan_type_name                    184956 non-null object\n",
      "loan_type                         184956 non-null int64\n",
      "property_type_name                184956 non-null object\n",
      "property_type                     184956 non-null int64\n",
      "loan_purpose_name                 184956 non-null object\n",
      "loan_purpose                      184956 non-null int64\n",
      "owner_occupancy_name              184270 non-null object\n",
      "owner_occupancy                   184270 non-null float64\n",
      "loan_amount_000s                  184928 non-null float64\n",
      "preapproval_name                  184956 non-null object\n",
      "preapproval                       184956 non-null int64\n",
      "action_taken_name                 184956 non-null object\n",
      "action_taken                      184956 non-null int64\n",
      "msamd_name                        184332 non-null object\n",
      "msamd                             184348 non-null float64\n",
      "county_name                       184373 non-null object\n",
      "county_code                       184373 non-null float64\n",
      "applicant_ethnicity_name          139705 non-null object\n",
      "applicant_ethnicity               139705 non-null float64\n",
      "co_applicant_ethnicity_name       152319 non-null object\n",
      "co_applicant_ethnicity            152319 non-null float64\n",
      "applicant_race_name_1             137353 non-null object\n",
      "applicant_race_1                  137353 non-null float64\n",
      "co_applicant_race_name_1          151437 non-null object\n",
      "co_applicant_race_1               151437 non-null float64\n",
      "applicant_sex_name                146550 non-null object\n",
      "applicant_sex                     146550 non-null float64\n",
      "co_applicant_sex_name             155550 non-null object\n",
      "co_applicant_sex                  155550 non-null float64\n",
      "applicant_income_000s             158650 non-null float64\n",
      "purchaser_type_name               184956 non-null object\n",
      "purchaser_type                    184956 non-null int64\n",
      "lien_status_name                  144845 non-null object\n",
      "lien_status                       144845 non-null float64\n",
      "population                        184365 non-null float64\n",
      "minority_population               184365 non-null float64\n",
      "hud_median_family_income          184365 non-null float64\n",
      "tract_to_msamd_income             184365 non-null float64\n",
      "number_of_owner_occupied_units    184365 non-null float64\n",
      "number_of_1_to_4_family_units     184365 non-null float64\n",
      "accepted                          184956 non-null int64\n",
      "Insufficient_cash_                184956 non-null float64\n",
      "Debt_to_income_ratio              184956 non-null float64\n",
      "Other                             184956 non-null float64\n",
      "Credit_history                    184956 non-null float64\n",
      "Unverifiable_information          184956 non-null float64\n",
      "Collateral                        184956 non-null float64\n",
      "Credit_application_incomplete     184956 non-null float64\n",
      "Employment_history                184956 non-null float64\n",
      "Mortgage_insurance_denied         184956 non-null float64\n",
      "dtypes: float64(27), int64(8), object(17)\n",
      "memory usage: 74.8+ MB\n"
     ]
    }
   ],
   "source": [
    "df.info()"
   ]
  },
  {
   "cell_type": "code",
   "execution_count": 53,
   "metadata": {},
   "outputs": [],
   "source": [
    "# Removing loan purpose name. It only has one category.\n",
    "cat_few_selection = ['loan_type', 'property_type', 'owner_occupancy', 'preapproval','applicant_ethnicity',\n",
    "                     'co_applicant_ethnicity','applicant_race_1','co_applicant_race_1','co_applicant_sex',\n",
    "                     'applicant_sex','lien_status',]\n",
    "\n",
    "cat_binoial = ['Insufficient_cash_','Collateral','Debt_to_income_ratio', 'Credit_application_incomplete','Credit_history',\n",
    "               'Unverifiable_information', 'Employment_history','Mortgage_insurance_denied']\n",
    "\n",
    "cat_many_selection = ['agency_code', 'action_taken', 'msamd', 'county_code']\n",
    "\n",
    "numerical_cols = ['loan_amount_000s', 'applicant_income_000s', 'population','number_of_owner_occupied_units', \n",
    "                  'number_of_1_to_4_family_units','minority_population', 'hud_median_family_income','tract_to_msamd_income']"
   ]
  },
  {
   "cell_type": "code",
   "execution_count": 54,
   "metadata": {
    "scrolled": true
   },
   "outputs": [
    {
     "data": {
      "image/png": "[encoded data removed]",
      "text/plain": [
       "<Figure size 432x288 with 1 Axes>"
      ]
     },
     "metadata": {
      "needs_background": "light"
     },
     "output_type": "display_data"
    },
    {
     "data": {
      "text/plain": [
       "0    0.939153\n",
       "1    0.060847\n",
       "Name: accepted, dtype: float64"
      ]
     },
     "execution_count": 54,
     "metadata": {},
     "output_type": "execute_result"
    }
   ],
   "source": [
    "df[\"accepted\"].value_counts().plot(kind='bar')\n",
    "plt.title('Accepted loan applications')\n",
    "plt.show()\n",
    "df[\"accepted\"].value_counts(normalize = 'index')"
   ]
  },
  {
   "cell_type": "code",
   "execution_count": 55,
   "metadata": {},
   "outputs": [
    {
     "data": {
      "text/html": [
       "<div>\n",
       "<style scoped>\n",
       "    .dataframe tbody tr th:only-of-type {\n",
       "        vertical-align: middle;\n",
       "    }\n",
       "\n",
       "    .dataframe tbody tr th {\n",
       "        vertical-align: top;\n",
       "    }\n",
       "\n",
       "    .dataframe thead th {\n",
       "        text-align: right;\n",
       "    }\n",
       "</style>\n",
       "<table border=\"1\" class=\"dataframe\">\n",
       "  <thead>\n",
       "    <tr style=\"text-align: right;\">\n",
       "      <th></th>\n",
       "      <th>agency_abbr</th>\n",
       "      <th>agency_code</th>\n",
       "      <th>loan_type_name</th>\n",
       "      <th>loan_type</th>\n",
       "      <th>property_type_name</th>\n",
       "      <th>property_type</th>\n",
       "      <th>loan_purpose_name</th>\n",
       "      <th>loan_purpose</th>\n",
       "      <th>owner_occupancy_name</th>\n",
       "      <th>owner_occupancy</th>\n",
       "      <th>...</th>\n",
       "      <th>accepted</th>\n",
       "      <th>Insufficient_cash_</th>\n",
       "      <th>Debt_to_income_ratio</th>\n",
       "      <th>Other</th>\n",
       "      <th>Credit_history</th>\n",
       "      <th>Unverifiable_information</th>\n",
       "      <th>Collateral</th>\n",
       "      <th>Credit_application_incomplete</th>\n",
       "      <th>Employment_history</th>\n",
       "      <th>Mortgage_insurance_denied</th>\n",
       "    </tr>\n",
       "  </thead>\n",
       "  <tbody>\n",
       "    <tr>\n",
       "      <th>7142</th>\n",
       "      <td>HUD</td>\n",
       "      <td>7</td>\n",
       "      <td>Conventional</td>\n",
       "      <td>1</td>\n",
       "      <td>One-to-four family dwelling (other than manufa...</td>\n",
       "      <td>1</td>\n",
       "      <td>Home purchase</td>\n",
       "      <td>1</td>\n",
       "      <td>Owner-occupied as a principal dwelling</td>\n",
       "      <td>1.0</td>\n",
       "      <td>...</td>\n",
       "      <td>0</td>\n",
       "      <td>0.0</td>\n",
       "      <td>0.0</td>\n",
       "      <td>0.0</td>\n",
       "      <td>0.0</td>\n",
       "      <td>0.0</td>\n",
       "      <td>0.0</td>\n",
       "      <td>0.0</td>\n",
       "      <td>0.0</td>\n",
       "      <td>0.0</td>\n",
       "    </tr>\n",
       "    <tr>\n",
       "      <th>82667</th>\n",
       "      <td>CFPB</td>\n",
       "      <td>9</td>\n",
       "      <td>Conventional</td>\n",
       "      <td>1</td>\n",
       "      <td>One-to-four family dwelling (other than manufa...</td>\n",
       "      <td>1</td>\n",
       "      <td>Home purchase</td>\n",
       "      <td>1</td>\n",
       "      <td>Not owner-occupied as a principal dwelling</td>\n",
       "      <td>2.0</td>\n",
       "      <td>...</td>\n",
       "      <td>0</td>\n",
       "      <td>0.0</td>\n",
       "      <td>0.0</td>\n",
       "      <td>0.0</td>\n",
       "      <td>0.0</td>\n",
       "      <td>0.0</td>\n",
       "      <td>0.0</td>\n",
       "      <td>0.0</td>\n",
       "      <td>0.0</td>\n",
       "      <td>0.0</td>\n",
       "    </tr>\n",
       "  </tbody>\n",
       "</table>\n",
       "<p>2 rows × 52 columns</p>\n",
       "</div>"
      ],
      "text/plain": [
       "      agency_abbr  agency_code loan_type_name  loan_type  \\\n",
       "7142          HUD            7   Conventional          1   \n",
       "82667        CFPB            9   Conventional          1   \n",
       "\n",
       "                                      property_type_name  property_type  \\\n",
       "7142   One-to-four family dwelling (other than manufa...              1   \n",
       "82667  One-to-four family dwelling (other than manufa...              1   \n",
       "\n",
       "      loan_purpose_name  loan_purpose  \\\n",
       "7142      Home purchase             1   \n",
       "82667     Home purchase             1   \n",
       "\n",
       "                             owner_occupancy_name  owner_occupancy  ...  \\\n",
       "7142       Owner-occupied as a principal dwelling              1.0  ...   \n",
       "82667  Not owner-occupied as a principal dwelling              2.0  ...   \n",
       "\n",
       "       accepted Insufficient_cash_  Debt_to_income_ratio Other  \\\n",
       "7142          0                0.0                   0.0   0.0   \n",
       "82667         0                0.0                   0.0   0.0   \n",
       "\n",
       "       Credit_history Unverifiable_information  Collateral  \\\n",
       "7142              0.0                      0.0         0.0   \n",
       "82667             0.0                      0.0         0.0   \n",
       "\n",
       "      Credit_application_incomplete  Employment_history  \\\n",
       "7142                            0.0                 0.0   \n",
       "82667                           0.0                 0.0   \n",
       "\n",
       "      Mortgage_insurance_denied  \n",
       "7142                        0.0  \n",
       "82667                       0.0  \n",
       "\n",
       "[2 rows x 52 columns]"
      ]
     },
     "execution_count": 55,
     "metadata": {},
     "output_type": "execute_result"
    }
   ],
   "source": [
    "df.loc[df.number_of_1_to_4_family_units == 0]"
   ]
  },
  {
   "cell_type": "code",
   "execution_count": 56,
   "metadata": {},
   "outputs": [],
   "source": [
    "df.drop([7142, 82667], inplace=True)"
   ]
  },
  {
   "cell_type": "code",
   "execution_count": 57,
   "metadata": {},
   "outputs": [],
   "source": [
    "#df.loc[df.number_of_1_to_4_family_units == 0]"
   ]
  },
  {
   "cell_type": "code",
   "execution_count": 58,
   "metadata": {},
   "outputs": [
    {
     "name": "stdout",
     "output_type": "stream",
     "text": [
      "<class 'pandas.core.frame.DataFrame'>\n",
      "Int64Index: 184954 entries, 0 to 184955\n",
      "Data columns (total 52 columns):\n",
      "agency_abbr                       184954 non-null object\n",
      "agency_code                       184954 non-null int64\n",
      "loan_type_name                    184954 non-null object\n",
      "loan_type                         184954 non-null int64\n",
      "property_type_name                184954 non-null object\n",
      "property_type                     184954 non-null int64\n",
      "loan_purpose_name                 184954 non-null object\n",
      "loan_purpose                      184954 non-null int64\n",
      "owner_occupancy_name              184268 non-null object\n",
      "owner_occupancy                   184268 non-null float64\n",
      "loan_amount_000s                  184926 non-null float64\n",
      "preapproval_name                  184954 non-null object\n",
      "preapproval                       184954 non-null int64\n",
      "action_taken_name                 184954 non-null object\n",
      "action_taken                      184954 non-null int64\n",
      "msamd_name                        184330 non-null object\n",
      "msamd                             184346 non-null float64\n",
      "county_name                       184371 non-null object\n",
      "county_code                       184371 non-null float64\n",
      "applicant_ethnicity_name          139704 non-null object\n",
      "applicant_ethnicity               139704 non-null float64\n",
      "co_applicant_ethnicity_name       152318 non-null object\n",
      "co_applicant_ethnicity            152318 non-null float64\n",
      "applicant_race_name_1             137352 non-null object\n",
      "applicant_race_1                  137352 non-null float64\n",
      "co_applicant_race_name_1          151436 non-null object\n",
      "co_applicant_race_1               151436 non-null float64\n",
      "applicant_sex_name                146548 non-null object\n",
      "applicant_sex                     146548 non-null float64\n",
      "co_applicant_sex_name             155548 non-null object\n",
      "co_applicant_sex                  155548 non-null float64\n",
      "applicant_income_000s             158648 non-null float64\n",
      "purchaser_type_name               184954 non-null object\n",
      "purchaser_type                    184954 non-null int64\n",
      "lien_status_name                  144843 non-null object\n",
      "lien_status                       144843 non-null float64\n",
      "population                        184363 non-null float64\n",
      "minority_population               184363 non-null float64\n",
      "hud_median_family_income          184363 non-null float64\n",
      "tract_to_msamd_income             184363 non-null float64\n",
      "number_of_owner_occupied_units    184363 non-null float64\n",
      "number_of_1_to_4_family_units     184363 non-null float64\n",
      "accepted                          184954 non-null int64\n",
      "Insufficient_cash_                184954 non-null float64\n",
      "Debt_to_income_ratio              184954 non-null float64\n",
      "Other                             184954 non-null float64\n",
      "Credit_history                    184954 non-null float64\n",
      "Unverifiable_information          184954 non-null float64\n",
      "Collateral                        184954 non-null float64\n",
      "Credit_application_incomplete     184954 non-null float64\n",
      "Employment_history                184954 non-null float64\n",
      "Mortgage_insurance_denied         184954 non-null float64\n",
      "dtypes: float64(27), int64(8), object(17)\n",
      "memory usage: 74.8+ MB\n"
     ]
    }
   ],
   "source": [
    "df.info()"
   ]
  },
  {
   "cell_type": "code",
   "execution_count": 59,
   "metadata": {
    "scrolled": false
   },
   "outputs": [
    {
     "name": "stderr",
     "output_type": "stream",
     "text": [
      "C:\\Users\\egust\\anaconda3\\envs\\learn-env\\lib\\site-packages\\pandas\\plotting\\_matplotlib\\tools.py:307: MatplotlibDeprecationWarning: \n",
      "The rowNum attribute was deprecated in Matplotlib 3.2 and will be removed two minor releases later. Use ax.get_subplotspec().rowspan.start instead.\n",
      "  layout[ax.rowNum, ax.colNum] = ax.get_visible()\n",
      "C:\\Users\\egust\\anaconda3\\envs\\learn-env\\lib\\site-packages\\pandas\\plotting\\_matplotlib\\tools.py:307: MatplotlibDeprecationWarning: \n",
      "The colNum attribute was deprecated in Matplotlib 3.2 and will be removed two minor releases later. Use ax.get_subplotspec().colspan.start instead.\n",
      "  layout[ax.rowNum, ax.colNum] = ax.get_visible()\n",
      "C:\\Users\\egust\\anaconda3\\envs\\learn-env\\lib\\site-packages\\pandas\\plotting\\_matplotlib\\tools.py:313: MatplotlibDeprecationWarning: \n",
      "The rowNum attribute was deprecated in Matplotlib 3.2 and will be removed two minor releases later. Use ax.get_subplotspec().rowspan.start instead.\n",
      "  if not layout[ax.rowNum + 1, ax.colNum]:\n",
      "C:\\Users\\egust\\anaconda3\\envs\\learn-env\\lib\\site-packages\\pandas\\plotting\\_matplotlib\\tools.py:313: MatplotlibDeprecationWarning: \n",
      "The colNum attribute was deprecated in Matplotlib 3.2 and will be removed two minor releases later. Use ax.get_subplotspec().colspan.start instead.\n",
      "  if not layout[ax.rowNum + 1, ax.colNum]:\n"
     ]
    },
    {
     "data": {
      "image/png": "[encoded data removed]",
      "text/plain": [
       "<Figure size 864x720 with 9 Axes>"
      ]
     },
     "metadata": {
      "needs_background": "light"
     },
     "output_type": "display_data"
    },
    {
     "name": "stdout",
     "output_type": "stream",
     "text": [
      "Skewness of numerical columns:\n"
     ]
    },
    {
     "data": {
      "text/plain": [
       "loan_amount_000s                  130.339937\n",
       "applicant_income_000s              72.995607\n",
       "population                          0.984479\n",
       "number_of_owner_occupied_units      0.888524\n",
       "number_of_1_to_4_family_units       1.672501\n",
       "minority_population                 0.929494\n",
       "hud_median_family_income            0.139236\n",
       "tract_to_msamd_income               0.871417\n",
       "dtype: float64"
      ]
     },
     "execution_count": 59,
     "metadata": {},
     "output_type": "execute_result"
    }
   ],
   "source": [
    "df[numerical_cols].hist(figsize=(12,10), bins=20)\n",
    "plt.suptitle(\"Histograms of numerical values\")\n",
    "plt.show()\n",
    "\n",
    "print(\"Skewness of numerical columns:\")\n",
    "df[numerical_cols].skew()"
   ]
  },
  {
   "cell_type": "code",
   "execution_count": 60,
   "metadata": {},
   "outputs": [
    {
     "data": {
      "image/png": "[encoded data removed]",
      "text/plain": [
       "<Figure size 864x720 with 9 Axes>"
      ]
     },
     "metadata": {
      "needs_background": "light"
     },
     "output_type": "display_data"
    },
    {
     "name": "stdout",
     "output_type": "stream",
     "text": [
      "Skewness of numerical columns after applying log function:\n"
     ]
    },
    {
     "data": {
      "text/plain": [
       "<Figure size 432x288 with 0 Axes>"
      ]
     },
     "metadata": {},
     "output_type": "display_data"
    }
   ],
   "source": [
    "import math\n",
    "to_log = [\"loan_amount_000s\", \"applicant_income_000s\", \"hud_median_family_income\"]\n",
    "df[to_log] = df[to_log].applymap(math.log)\n",
    "\n",
    "df[numerical_cols].hist(figsize=(12,10), bins=20)\n",
    "plt.suptitle(\"Histograms of numerical values\")\n",
    "plt.show()\n",
    "\n",
    "print(\"Skewness of numerical columns after applying log function:\")\n",
    "df[numerical_cols].skew()\n",
    "plt.tight_layout()"
   ]
  },
  {
   "cell_type": "code",
   "execution_count": 61,
   "metadata": {},
   "outputs": [
    {
     "data": {
      "text/plain": [
       "count    184363.000000\n",
       "mean       1778.870847\n",
       "std         850.173488\n",
       "min          15.000000\n",
       "25%        1232.000000\n",
       "50%        1670.000000\n",
       "75%        2185.000000\n",
       "max        6522.000000\n",
       "Name: number_of_1_to_4_family_units, dtype: float64"
      ]
     },
     "execution_count": 61,
     "metadata": {},
     "output_type": "execute_result"
    }
   ],
   "source": [
    "df.number_of_1_to_4_family_units.describe()"
   ]
  },
  {
   "cell_type": "code",
   "execution_count": 62,
   "metadata": {},
   "outputs": [
    {
     "name": "stdout",
     "output_type": "stream",
     "text": [
      "Skewness of numerical columns:\n"
     ]
    },
    {
     "data": {
      "text/plain": [
       "loan_amount_000s                 -0.803211\n",
       "applicant_income_000s             0.505687\n",
       "population                        0.984479\n",
       "number_of_owner_occupied_units    0.888524\n",
       "number_of_1_to_4_family_units     1.672501\n",
       "minority_population               0.929494\n",
       "hud_median_family_income         -0.013294\n",
       "tract_to_msamd_income             0.871417\n",
       "dtype: float64"
      ]
     },
     "execution_count": 62,
     "metadata": {},
     "output_type": "execute_result"
    },
    {
     "data": {
      "image/png": "[encoded data removed]",
      "text/plain": [
       "<Figure size 864x1008 with 8 Axes>"
      ]
     },
     "metadata": {
      "needs_background": "light"
     },
     "output_type": "display_data"
    }
   ],
   "source": [
    "import warnings\n",
    "warnings.filterwarnings(\"ignore\")\n",
    "\n",
    "fig, axes = plt.subplots(ncols = 2, nrows = 4, figsize = (12,14))\n",
    "fig.subplots_adjust(hspace = 0.4, wspace = 0.2)\n",
    "fig.suptitle(\"KDE plots of numerical features\")\n",
    "\n",
    "for ax, col in zip(axes.flatten(), numerical_cols) :\n",
    "    sns.kdeplot(df[df[\"accepted\"] == 0][col], shade=\"True\", label=\"Not accepted\", ax = ax)\n",
    "    sns.kdeplot(df[df[\"accepted\"] == 1][col], shade=\"True\", label=\"Accepted\", ax = ax)\n",
    "    ax.set_xlabel(col)\n",
    "plt.tight_layout()\n",
    "\n",
    "print(\"Skewness of numerical columns:\")\n",
    "df[numerical_cols].skew()"
   ]
  },
  {
   "cell_type": "markdown",
   "metadata": {},
   "source": [
    "From these graphs I was able to notice that the feature minority_population is actually given in percent."
   ]
  },
  {
   "cell_type": "code",
   "execution_count": 63,
   "metadata": {},
   "outputs": [],
   "source": [
    "df['minority_population_'] = (df['minority_population'] / 100) * (df['population'])\n",
    "df['minority_population_'].fillna(df['minority_population_'].median(), inplace=True)\n",
    "df['minority_population_'].replace(0.0, 0.1, inplace=True)\n",
    "df['minority_population_'] = (df['minority_population_']).apply(math.log)"
   ]
  },
  {
   "cell_type": "code",
   "execution_count": 64,
   "metadata": {},
   "outputs": [
    {
     "name": "stdout",
     "output_type": "stream",
     "text": [
      "Skewness of Minority Population:\n"
     ]
    },
    {
     "data": {
      "text/plain": [
       "-1.23657500706281"
      ]
     },
     "execution_count": 64,
     "metadata": {},
     "output_type": "execute_result"
    },
    {
     "data": {
      "image/png": "[encoded data removed]",
      "text/plain": [
       "<Figure size 576x576 with 1 Axes>"
      ]
     },
     "metadata": {
      "needs_background": "light"
     },
     "output_type": "display_data"
    }
   ],
   "source": [
    "fig, ax = plt.subplots(figsize = (8,8))\n",
    "fig.suptitle(\"KDE plots of Minority population\")\n",
    "\n",
    "sns.kdeplot(df[df[\"accepted\"] == 0]['minority_population_'], shade=\"True\", label=\"Not accepted\", ax = ax)\n",
    "sns.kdeplot(df[df[\"accepted\"] == 1]['minority_population_'], shade=\"True\", label=\"Accepted\", ax = ax)\n",
    "ax.set_xlabel('minority_population_')\n",
    "plt.tight_layout()\n",
    "\n",
    "print(\"Skewness of Minority Population:\")\n",
    "df['minority_population_'].skew()"
   ]
  },
  {
   "cell_type": "code",
   "execution_count": 65,
   "metadata": {},
   "outputs": [
    {
     "data": {
      "text/plain": [
       "<function matplotlib.pyplot.tight_layout(pad=1.08, h_pad=None, w_pad=None, rect=None)>"
      ]
     },
     "execution_count": 65,
     "metadata": {},
     "output_type": "execute_result"
    },
    {
     "data": {
      "image/png": "[encoded data removed]",
      "text/plain": [
       "<Figure size 1080x1080 with 12 Axes>"
      ]
     },
     "metadata": {
      "needs_background": "light"
     },
     "output_type": "display_data"
    }
   ],
   "source": [
    "fig, axes = plt.subplots(ncols = 2, nrows = 6, figsize = (15,15))\n",
    "fig.subplots_adjust(hspace = .5, wspace = 0.3)\n",
    "fig.suptitle(\"Categorical features with low cardinality\")\n",
    "\n",
    "for ax, col in zip(axes.flatten(), cat_few_selection) :\n",
    "    pd.crosstab(df[col], df[\"accepted\"]).plot(kind=\"bar\", ax = ax)\n",
    "    ax.set_xlabel(col)\n",
    "plt.tight_layout"
   ]
  },
  {
   "cell_type": "code",
   "execution_count": 66,
   "metadata": {},
   "outputs": [
    {
     "data": {
      "image/png": "[encoded data removed]",
      "text/plain": [
       "<Figure size 1008x720 with 4 Axes>"
      ]
     },
     "metadata": {
      "needs_background": "light"
     },
     "output_type": "display_data"
    }
   ],
   "source": [
    "fig, axes = plt.subplots(ncols = 2, nrows = 2, figsize = (14,10))\n",
    "fig.subplots_adjust(hspace = 0.3, wspace = 0.3)\n",
    "fig.suptitle(\"Categorical features with high cardinality\")\n",
    "\n",
    "for ax, col in zip(axes.flatten(), cat_many_selection) :\n",
    "    sns.kdeplot(df[df[\"accepted\"] == 0][col], shade=\"True\", label=\"Not accepted\", ax = ax)\n",
    "    sns.kdeplot(df[df[\"accepted\"] == 1][col], shade=\"True\", label=\"Accepted\", ax = ax)\n",
    "    ax.set_xlabel(col)"
   ]
  },
  {
   "cell_type": "code",
   "execution_count": 67,
   "metadata": {},
   "outputs": [
    {
     "data": {
      "image/png": "[encoded data removed]",
      "text/plain": [
       "<Figure size 432x288 with 1 Axes>"
      ]
     },
     "metadata": {
      "needs_background": "light"
     },
     "output_type": "display_data"
    },
    {
     "data": {
      "text/plain": [
       "0    0.939152\n",
       "1    0.060848\n",
       "Name: accepted, dtype: float64"
      ]
     },
     "execution_count": 67,
     "metadata": {},
     "output_type": "execute_result"
    }
   ],
   "source": [
    "df[\"accepted\"].value_counts().plot(kind='bar')\n",
    "plt.title('Accepted loan applications')\n",
    "plt.show()\n",
    "df[\"accepted\"].value_counts(normalize = 'index')"
   ]
  },
  {
   "cell_type": "code",
   "execution_count": 68,
   "metadata": {},
   "outputs": [
    {
     "data": {
      "text/plain": [
       "agency_abbr                           0\n",
       "agency_code                           0\n",
       "loan_type_name                        0\n",
       "loan_type                             0\n",
       "property_type_name                    0\n",
       "property_type                         0\n",
       "loan_purpose_name                     0\n",
       "loan_purpose                          0\n",
       "owner_occupancy_name                652\n",
       "owner_occupancy                     652\n",
       "loan_amount_000s                     21\n",
       "preapproval_name                      0\n",
       "preapproval                           0\n",
       "action_taken_name                     0\n",
       "action_taken                          0\n",
       "msamd_name                          577\n",
       "msamd                               561\n",
       "county_name                         536\n",
       "county_code                         536\n",
       "applicant_ethnicity_name          43514\n",
       "applicant_ethnicity               43514\n",
       "co_applicant_ethnicity_name       31935\n",
       "co_applicant_ethnicity            31935\n",
       "applicant_race_name_1             45457\n",
       "applicant_race_1                  45457\n",
       "co_applicant_race_name_1          32660\n",
       "co_applicant_race_1               32660\n",
       "applicant_sex_name                37257\n",
       "applicant_sex                     37257\n",
       "co_applicant_sex_name             28952\n",
       "co_applicant_sex                  28952\n",
       "applicant_income_000s             25944\n",
       "purchaser_type_name                   0\n",
       "purchaser_type                        0\n",
       "lien_status_name                  40111\n",
       "lien_status                       40111\n",
       "population                          544\n",
       "minority_population                 544\n",
       "hud_median_family_income            544\n",
       "tract_to_msamd_income               544\n",
       "number_of_owner_occupied_units      544\n",
       "number_of_1_to_4_family_units       544\n",
       "accepted                              0\n",
       "Insufficient_cash_                    0\n",
       "Debt_to_income_ratio                  0\n",
       "Other                                 0\n",
       "Credit_history                        0\n",
       "Unverifiable_information              0\n",
       "Collateral                            0\n",
       "Credit_application_incomplete         0\n",
       "Employment_history                    0\n",
       "Mortgage_insurance_denied             0\n",
       "minority_population_                  0\n",
       "dtype: int64"
      ]
     },
     "execution_count": 68,
     "metadata": {},
     "output_type": "execute_result"
    }
   ],
   "source": [
    "df.loc[df['accepted'] == 0].isna().sum()"
   ]
  },
  {
   "cell_type": "code",
   "execution_count": 69,
   "metadata": {},
   "outputs": [
    {
     "data": {
      "text/plain": [
       "0    0.0\n",
       "dtype: float64"
      ]
     },
     "execution_count": 69,
     "metadata": {},
     "output_type": "execute_result"
    }
   ],
   "source": [
    "df.loc[df['accepted'] == 0]['Other'].mode()"
   ]
  },
  {
   "cell_type": "markdown",
   "metadata": {},
   "source": [
    "# Preprocessing Dataset"
   ]
  },
  {
   "cell_type": "code",
   "execution_count": 70,
   "metadata": {},
   "outputs": [],
   "source": [
    "cat_few_selection = ['loan_type', 'property_type', 'owner_occupancy', 'preapproval','applicant_ethnicity',\n",
    "                     'co_applicant_ethnicity','applicant_race_1','co_applicant_race_1','co_applicant_sex',\n",
    "                     'applicant_sex','lien_status',]\n",
    "\n",
    "cat_binoial = ['Insufficient_cash_','Collateral','Debt_to_income_ratio', 'Credit_application_incomplete','Credit_history',\n",
    "               'Unverifiable_information', 'Employment_history','Mortgage_insurance_denied']\n",
    "\n",
    "cat_many_selection = ['agency_code', 'action_taken', 'msamd', 'county_code']\n",
    "\n",
    "numerical_cols = ['loan_amount_000s', 'applicant_income_000s', 'population','number_of_owner_occupied_units', \n",
    "                  'number_of_1_to_4_family_units','minority_population', 'hud_median_family_income','tract_to_msamd_income']\n",
    "to_drop = ['agency_abbr', 'loan_type_name','property_type_name', 'loan_purpose_name', 'owner_occupancy_name', 'preapproval_name',\n",
    "           'action_taken_name', 'msamd_name', 'county_name', 'applicant_ethnicity_name', 'co_applicant_ethnicity_name' , \n",
    "           'applicant_race_name_1', 'co_applicant_race_name_1', 'applicant_sex_name', 'co_applicant_sex_name', 'purchaser_type_name', 'lien_status_name',\n",
    "           'Other']\n",
    "\n",
    "for col in numerical_cols:\n",
    "    df[col].fillna(df[col].median(), inplace=True)\n",
    "for col in cat_many_selection:\n",
    "    df[col].fillna(df[col].median(), inplace=True)\n",
    "for col in cat_few_selection:\n",
    "    df[col].fillna(df[col].mode(), inplace=True)\n",
    "\n",
    "df.drop(to_drop, axis=1, inplace=True)\n",
    "\n",
    "df= pd.get_dummies(df, columns = cat_few_selection)"
   ]
  },
  {
   "cell_type": "code",
   "execution_count": 71,
   "metadata": {},
   "outputs": [
    {
     "data": {
      "text/plain": [
       "False"
      ]
     },
     "execution_count": 71,
     "metadata": {},
     "output_type": "execute_result"
    }
   ],
   "source": [
    "df.isna().sum().any()"
   ]
  },
  {
   "cell_type": "code",
   "execution_count": 72,
   "metadata": {},
   "outputs": [],
   "source": [
    "y = df.accepted\n",
    "X = df.drop(['accepted'], axis=1)"
   ]
  },
  {
   "cell_type": "code",
   "execution_count": 73,
   "metadata": {},
   "outputs": [
    {
     "name": "stdout",
     "output_type": "stream",
     "text": [
      "<class 'pandas.core.frame.DataFrame'>\n",
      "Int64Index: 184954 entries, 0 to 184955\n",
      "Data columns (total 58 columns):\n",
      "agency_code                       184954 non-null int64\n",
      "loan_purpose                      184954 non-null int64\n",
      "loan_amount_000s                  184954 non-null float64\n",
      "action_taken                      184954 non-null int64\n",
      "msamd                             184954 non-null float64\n",
      "county_code                       184954 non-null float64\n",
      "applicant_income_000s             184954 non-null float64\n",
      "purchaser_type                    184954 non-null int64\n",
      "population                        184954 non-null float64\n",
      "minority_population               184954 non-null float64\n",
      "hud_median_family_income          184954 non-null float64\n",
      "tract_to_msamd_income             184954 non-null float64\n",
      "number_of_owner_occupied_units    184954 non-null float64\n",
      "number_of_1_to_4_family_units     184954 non-null float64\n",
      "Insufficient_cash_                184954 non-null float64\n",
      "Debt_to_income_ratio              184954 non-null float64\n",
      "Credit_history                    184954 non-null float64\n",
      "Unverifiable_information          184954 non-null float64\n",
      "Collateral                        184954 non-null float64\n",
      "Credit_application_incomplete     184954 non-null float64\n",
      "Employment_history                184954 non-null float64\n",
      "Mortgage_insurance_denied         184954 non-null float64\n",
      "minority_population_              184954 non-null float64\n",
      "loan_type_1                       184954 non-null uint8\n",
      "loan_type_2                       184954 non-null uint8\n",
      "loan_type_3                       184954 non-null uint8\n",
      "loan_type_4                       184954 non-null uint8\n",
      "property_type_1                   184954 non-null uint8\n",
      "property_type_2                   184954 non-null uint8\n",
      "property_type_3                   184954 non-null uint8\n",
      "owner_occupancy_1.0               184954 non-null uint8\n",
      "owner_occupancy_2.0               184954 non-null uint8\n",
      "preapproval_1                     184954 non-null uint8\n",
      "preapproval_2                     184954 non-null uint8\n",
      "preapproval_3                     184954 non-null uint8\n",
      "applicant_ethnicity_1.0           184954 non-null uint8\n",
      "applicant_ethnicity_2.0           184954 non-null uint8\n",
      "co_applicant_ethnicity_1.0        184954 non-null uint8\n",
      "co_applicant_ethnicity_2.0        184954 non-null uint8\n",
      "co_applicant_ethnicity_5.0        184954 non-null uint8\n",
      "applicant_race_1_1.0              184954 non-null uint8\n",
      "applicant_race_1_2.0              184954 non-null uint8\n",
      "applicant_race_1_3.0              184954 non-null uint8\n",
      "applicant_race_1_4.0              184954 non-null uint8\n",
      "applicant_race_1_5.0              184954 non-null uint8\n",
      "co_applicant_race_1_1.0           184954 non-null uint8\n",
      "co_applicant_race_1_2.0           184954 non-null uint8\n",
      "co_applicant_race_1_3.0           184954 non-null uint8\n",
      "co_applicant_race_1_4.0           184954 non-null uint8\n",
      "co_applicant_race_1_5.0           184954 non-null uint8\n",
      "co_applicant_race_1_8.0           184954 non-null uint8\n",
      "co_applicant_sex_1.0              184954 non-null uint8\n",
      "co_applicant_sex_2.0              184954 non-null uint8\n",
      "co_applicant_sex_5.0              184954 non-null uint8\n",
      "applicant_sex_1.0                 184954 non-null uint8\n",
      "applicant_sex_2.0                 184954 non-null uint8\n",
      "lien_status_1.0                   184954 non-null uint8\n",
      "lien_status_2.0                   184954 non-null uint8\n",
      "dtypes: float64(19), int64(4), uint8(35)\n",
      "memory usage: 40.0 MB\n"
     ]
    }
   ],
   "source": [
    "X.info()"
   ]
  },
  {
   "cell_type": "markdown",
   "metadata": {},
   "source": [
    "# Create training and test sets"
   ]
  },
  {
   "cell_type": "code",
   "execution_count": 74,
   "metadata": {},
   "outputs": [],
   "source": [
    "from sklearn.model_selection import train_test_split\n",
    "\n",
    "X_train, X_test, y_train, y_test = train_test_split(X, y, test_size=0.25, random_state=42)"
   ]
  },
  {
   "cell_type": "markdown",
   "metadata": {},
   "source": [
    "# Scale the data"
   ]
  },
  {
   "cell_type": "code",
   "execution_count": 75,
   "metadata": {},
   "outputs": [
    {
     "data": {
      "text/html": [
       "<div>\n",
       "<style scoped>\n",
       "    .dataframe tbody tr th:only-of-type {\n",
       "        vertical-align: middle;\n",
       "    }\n",
       "\n",
       "    .dataframe tbody tr th {\n",
       "        vertical-align: top;\n",
       "    }\n",
       "\n",
       "    .dataframe thead th {\n",
       "        text-align: right;\n",
       "    }\n",
       "</style>\n",
       "<table border=\"1\" class=\"dataframe\">\n",
       "  <thead>\n",
       "    <tr style=\"text-align: right;\">\n",
       "      <th></th>\n",
       "      <th>agency_code</th>\n",
       "      <th>loan_purpose</th>\n",
       "      <th>loan_amount_000s</th>\n",
       "      <th>action_taken</th>\n",
       "      <th>msamd</th>\n",
       "      <th>county_code</th>\n",
       "      <th>applicant_income_000s</th>\n",
       "      <th>purchaser_type</th>\n",
       "      <th>population</th>\n",
       "      <th>minority_population</th>\n",
       "      <th>...</th>\n",
       "      <th>co_applicant_race_1_4.0</th>\n",
       "      <th>co_applicant_race_1_5.0</th>\n",
       "      <th>co_applicant_race_1_8.0</th>\n",
       "      <th>co_applicant_sex_1.0</th>\n",
       "      <th>co_applicant_sex_2.0</th>\n",
       "      <th>co_applicant_sex_5.0</th>\n",
       "      <th>applicant_sex_1.0</th>\n",
       "      <th>applicant_sex_2.0</th>\n",
       "      <th>lien_status_1.0</th>\n",
       "      <th>lien_status_2.0</th>\n",
       "    </tr>\n",
       "  </thead>\n",
       "  <tbody>\n",
       "    <tr>\n",
       "      <th>0</th>\n",
       "      <td>1.004438</td>\n",
       "      <td>0.0</td>\n",
       "      <td>0.236987</td>\n",
       "      <td>0.138308</td>\n",
       "      <td>0.420287</td>\n",
       "      <td>-0.246901</td>\n",
       "      <td>0.633577</td>\n",
       "      <td>-0.807689</td>\n",
       "      <td>1.271503</td>\n",
       "      <td>1.820045</td>\n",
       "      <td>...</td>\n",
       "      <td>-0.034194</td>\n",
       "      <td>1.687969</td>\n",
       "      <td>-0.999301</td>\n",
       "      <td>3.251331</td>\n",
       "      <td>-0.584912</td>\n",
       "      <td>-0.999301</td>\n",
       "      <td>0.910402</td>\n",
       "      <td>-0.569717</td>\n",
       "      <td>0.533892</td>\n",
       "      <td>-0.074223</td>\n",
       "    </tr>\n",
       "    <tr>\n",
       "      <th>1</th>\n",
       "      <td>1.004438</td>\n",
       "      <td>0.0</td>\n",
       "      <td>-1.807583</td>\n",
       "      <td>-0.830848</td>\n",
       "      <td>0.420287</td>\n",
       "      <td>0.801850</td>\n",
       "      <td>0.064509</td>\n",
       "      <td>-0.436121</td>\n",
       "      <td>-0.439791</td>\n",
       "      <td>-0.986723</td>\n",
       "      <td>...</td>\n",
       "      <td>-0.034194</td>\n",
       "      <td>1.687969</td>\n",
       "      <td>-0.999301</td>\n",
       "      <td>3.251331</td>\n",
       "      <td>-0.584912</td>\n",
       "      <td>-0.999301</td>\n",
       "      <td>-1.098416</td>\n",
       "      <td>1.755259</td>\n",
       "      <td>0.533892</td>\n",
       "      <td>-0.074223</td>\n",
       "    </tr>\n",
       "    <tr>\n",
       "      <th>2</th>\n",
       "      <td>-0.166053</td>\n",
       "      <td>0.0</td>\n",
       "      <td>0.027099</td>\n",
       "      <td>-0.830848</td>\n",
       "      <td>-1.797666</td>\n",
       "      <td>-1.295653</td>\n",
       "      <td>-0.338494</td>\n",
       "      <td>1.421719</td>\n",
       "      <td>0.396276</td>\n",
       "      <td>-0.176475</td>\n",
       "      <td>...</td>\n",
       "      <td>-0.034194</td>\n",
       "      <td>-0.592428</td>\n",
       "      <td>1.000700</td>\n",
       "      <td>-0.307566</td>\n",
       "      <td>-0.584912</td>\n",
       "      <td>1.000700</td>\n",
       "      <td>0.910402</td>\n",
       "      <td>-0.569717</td>\n",
       "      <td>0.533892</td>\n",
       "      <td>-0.074223</td>\n",
       "    </tr>\n",
       "    <tr>\n",
       "      <th>3</th>\n",
       "      <td>-0.166053</td>\n",
       "      <td>0.0</td>\n",
       "      <td>-0.043888</td>\n",
       "      <td>-0.830848</td>\n",
       "      <td>0.420287</td>\n",
       "      <td>-1.470445</td>\n",
       "      <td>-0.755257</td>\n",
       "      <td>1.421719</td>\n",
       "      <td>-0.589578</td>\n",
       "      <td>0.646793</td>\n",
       "      <td>...</td>\n",
       "      <td>-0.034194</td>\n",
       "      <td>-0.592428</td>\n",
       "      <td>1.000700</td>\n",
       "      <td>-0.307566</td>\n",
       "      <td>-0.584912</td>\n",
       "      <td>1.000700</td>\n",
       "      <td>0.910402</td>\n",
       "      <td>-0.569717</td>\n",
       "      <td>0.533892</td>\n",
       "      <td>-0.074223</td>\n",
       "    </tr>\n",
       "    <tr>\n",
       "      <th>4</th>\n",
       "      <td>-0.166053</td>\n",
       "      <td>0.0</td>\n",
       "      <td>-1.571303</td>\n",
       "      <td>1.592042</td>\n",
       "      <td>0.360948</td>\n",
       "      <td>-0.596485</td>\n",
       "      <td>-0.069144</td>\n",
       "      <td>-0.064553</td>\n",
       "      <td>-0.717338</td>\n",
       "      <td>2.405905</td>\n",
       "      <td>...</td>\n",
       "      <td>-0.034194</td>\n",
       "      <td>-0.592428</td>\n",
       "      <td>-0.999301</td>\n",
       "      <td>-0.307566</td>\n",
       "      <td>-0.584912</td>\n",
       "      <td>-0.999301</td>\n",
       "      <td>-1.098416</td>\n",
       "      <td>-0.569717</td>\n",
       "      <td>-1.873038</td>\n",
       "      <td>-0.074223</td>\n",
       "    </tr>\n",
       "  </tbody>\n",
       "</table>\n",
       "<p>5 rows × 58 columns</p>\n",
       "</div>"
      ],
      "text/plain": [
       "   agency_code  loan_purpose  loan_amount_000s  action_taken     msamd  \\\n",
       "0     1.004438           0.0          0.236987      0.138308  0.420287   \n",
       "1     1.004438           0.0         -1.807583     -0.830848  0.420287   \n",
       "2    -0.166053           0.0          0.027099     -0.830848 -1.797666   \n",
       "3    -0.166053           0.0         -0.043888     -0.830848  0.420287   \n",
       "4    -0.166053           0.0         -1.571303      1.592042  0.360948   \n",
       "\n",
       "   county_code  applicant_income_000s  purchaser_type  population  \\\n",
       "0    -0.246901               0.633577       -0.807689    1.271503   \n",
       "1     0.801850               0.064509       -0.436121   -0.439791   \n",
       "2    -1.295653              -0.338494        1.421719    0.396276   \n",
       "3    -1.470445              -0.755257        1.421719   -0.589578   \n",
       "4    -0.596485              -0.069144       -0.064553   -0.717338   \n",
       "\n",
       "   minority_population  ...  co_applicant_race_1_4.0  co_applicant_race_1_5.0  \\\n",
       "0             1.820045  ...                -0.034194                 1.687969   \n",
       "1            -0.986723  ...                -0.034194                 1.687969   \n",
       "2            -0.176475  ...                -0.034194                -0.592428   \n",
       "3             0.646793  ...                -0.034194                -0.592428   \n",
       "4             2.405905  ...                -0.034194                -0.592428   \n",
       "\n",
       "   co_applicant_race_1_8.0  co_applicant_sex_1.0  co_applicant_sex_2.0  \\\n",
       "0                -0.999301              3.251331             -0.584912   \n",
       "1                -0.999301              3.251331             -0.584912   \n",
       "2                 1.000700             -0.307566             -0.584912   \n",
       "3                 1.000700             -0.307566             -0.584912   \n",
       "4                -0.999301             -0.307566             -0.584912   \n",
       "\n",
       "   co_applicant_sex_5.0  applicant_sex_1.0  applicant_sex_2.0  \\\n",
       "0             -0.999301           0.910402          -0.569717   \n",
       "1             -0.999301          -1.098416           1.755259   \n",
       "2              1.000700           0.910402          -0.569717   \n",
       "3              1.000700           0.910402          -0.569717   \n",
       "4             -0.999301          -1.098416          -0.569717   \n",
       "\n",
       "   lien_status_1.0  lien_status_2.0  \n",
       "0         0.533892        -0.074223  \n",
       "1         0.533892        -0.074223  \n",
       "2         0.533892        -0.074223  \n",
       "3         0.533892        -0.074223  \n",
       "4        -1.873038        -0.074223  \n",
       "\n",
       "[5 rows x 58 columns]"
      ]
     },
     "execution_count": 75,
     "metadata": {},
     "output_type": "execute_result"
    }
   ],
   "source": [
    "# Import StandardScalar\n",
    "from sklearn.preprocessing import StandardScaler\n",
    "\n",
    "# Instatiate StandScaler\n",
    "scaler = StandardScaler()\n",
    "\n",
    "# Transform the training and test sets\n",
    "scaled_X_train = scaler.fit_transform(X_train)\n",
    "scaled_X_test = scaler.transform(X_test)\n",
    "\n",
    "# Create data frame\n",
    "scaled_df_train = pd.DataFrame(scaled_X_train, columns=X_train.columns)\n",
    "scaled_df_train.head()"
   ]
  },
  {
   "cell_type": "code",
   "execution_count": 76,
   "metadata": {},
   "outputs": [],
   "source": [
    "from  imblearn.combine import SMOTETomek\n",
    "smk = SMOTETomek()\n",
    "X_smote_tomek, y_smote_tomek = smk.fit_sample(scaled_X_train,y_train)"
   ]
  },
  {
   "cell_type": "code",
   "execution_count": 78,
   "metadata": {
    "scrolled": true
   },
   "outputs": [
    {
     "data": {
      "text/plain": [
       "<matplotlib.axes._subplots.AxesSubplot at 0x27c07d671d0>"
      ]
     },
     "execution_count": 78,
     "metadata": {},
     "output_type": "execute_result"
    },
    {
     "data": {
      "image/png": "[encoded data removed]",
      "text/plain": [
       "<Figure size 432x288 with 1 Axes>"
      ]
     },
     "metadata": {
      "needs_background": "light"
     },
     "output_type": "display_data"
    }
   ],
   "source": [
    "y_smote_tomek.value_counts().plot(kind='bar')"
   ]
  },
  {
   "cell_type": "code",
   "execution_count": null,
   "metadata": {},
   "outputs": [],
   "source": [
    "X_smote_tomek"
   ]
  },
  {
   "cell_type": "markdown",
   "metadata": {},
   "source": [
    "# Fit a KNN model"
   ]
  },
  {
   "cell_type": "code",
   "execution_count": 79,
   "metadata": {},
   "outputs": [],
   "source": [
    "# Import KNeighborsClassifer\n",
    "from sklearn.neighbors import KNeighborsClassifier\n",
    "\n",
    "# Instantiate KNeighborsClassifier\n",
    "clf_KNN = KNeighborsClassifier()\n",
    "\n",
    "# fit Classifer\n",
    "clf_KNN.fit(X_scaled_train, y_train)\n",
    "\n",
    "# Predict on the test set \n",
    "\n",
    "y_preds_KNN = clf_KNN.predict(scaled_X_test)"
   ]
  },
  {
   "cell_type": "code",
   "execution_count": 93,
   "metadata": {},
   "outputs": [
    {
     "name": "stdout",
     "output_type": "stream",
     "text": [
      "Precision Score: 0.7300390843104411\n",
      "Recall Score: 0.911467410247473\n",
      "Accuracy Score: 0.9735937195873613\n",
      "F1 Score: 0.8107270190668114\n"
     ]
    }
   ],
   "source": [
    "# Import the necessary functions\n",
    "from sklearn.metrics import precision_score, recall_score, accuracy_score, f1_score\n",
    "\n",
    "#Complete the function\n",
    "def print_metrics(labels, preds):\n",
    "    print(\"Precision Score: {}\".format(precision_score(labels, preds)))\n",
    "    print(\"Recall Score: {}\".format(recall_score(labels, preds)))\n",
    "    print(\"Accuracy Score: {}\".format(accuracy_score(labels, preds)))\n",
    "    print(\"F1 Score: {}\".format(f1_score(labels, preds)))\n",
    "    \n",
    "print_metrics(y_test, y_preds_KNN)\n"
   ]
  },
  {
   "cell_type": "code",
   "execution_count": 94,
   "metadata": {},
   "outputs": [
    {
     "name": "stdout",
     "output_type": "stream",
     "text": [
      "The accuracy is : 0.9735937195873613\n",
      "\n",
      "\n",
      "Classification Report:\n",
      "              precision    recall  f1-score   support\n",
      "\n",
      "           0       0.99      0.98      0.99     43370\n",
      "           1       0.73      0.91      0.81      2869\n",
      "\n",
      "    accuracy                           0.97     46239\n",
      "   macro avg       0.86      0.94      0.90     46239\n",
      "weighted avg       0.98      0.97      0.97     46239\n",
      "\n"
     ]
    },
    {
     "data": {
      "image/png": "[encoded data removed]",
      "text/plain": [
       "<Figure size 432x288 with 2 Axes>"
      ]
     },
     "metadata": {
      "needs_background": "light"
     },
     "output_type": "display_data"
    }
   ],
   "source": [
    "from sklearn import metrics\n",
    "from sklearn.metrics import confusion_matrix\n",
    "print(\"The accuracy is :\" , accuracy_score(y_test, y_preds_KNN))\n",
    "print(\"\\n\")\n",
    "print(\"Classification Report:\")\n",
    "print(metrics.classification_report(y_test, y_preds_KNN))\n",
    "\n",
    "sns.heatmap(confusion_matrix(y_test, y_preds_KNN), annot=True)\n",
    "plt.title(\"Confusion Matrix\")\n",
    "plt.show()"
   ]
  },
  {
   "cell_type": "markdown",
   "metadata": {},
   "source": [
    "# Fit a Decision"
   ]
  },
  {
   "cell_type": "code",
   "execution_count": 95,
   "metadata": {},
   "outputs": [
    {
     "data": {
      "text/plain": [
       "DecisionTreeClassifier(random_state=10)"
      ]
     },
     "execution_count": 95,
     "metadata": {},
     "output_type": "execute_result"
    }
   ],
   "source": [
    "from sklearn.tree import DecisionTreeClassifier \n",
    "from sklearn.metrics import roc_curve, auc\n",
    "from sklearn import tree\n",
    "\n",
    "# Instantiate DecisionTreeClassifier\n",
    "clf_Decision_Tree = DecisionTreeClassifier(random_state=10)\n",
    "\n",
    "# fit classifer\n",
    "clf_Decision_Tree.fit(X_smote_tomek, y_smote_tomek)\n"
   ]
  },
  {
   "cell_type": "code",
   "execution_count": 96,
   "metadata": {},
   "outputs": [],
   "source": [
    "# predict  on the test set \n",
    "\n",
    "y_preds_Decision_Tree = clf_Decision_Tree.predict(scaled_X_test)"
   ]
  },
  {
   "cell_type": "code",
   "execution_count": 97,
   "metadata": {},
   "outputs": [
    {
     "name": "stdout",
     "output_type": "stream",
     "text": [
      "Accuracy is :99.2517139211488\n",
      "\n",
      "AUC is :0.97\n",
      "\n",
      "Confusion Matrix\n",
      "----------------\n"
     ]
    },
    {
     "data": {
      "text/html": [
       "<div>\n",
       "<style scoped>\n",
       "    .dataframe tbody tr th:only-of-type {\n",
       "        vertical-align: middle;\n",
       "    }\n",
       "\n",
       "    .dataframe tbody tr th {\n",
       "        vertical-align: top;\n",
       "    }\n",
       "\n",
       "    .dataframe thead th {\n",
       "        text-align: right;\n",
       "    }\n",
       "</style>\n",
       "<table border=\"1\" class=\"dataframe\">\n",
       "  <thead>\n",
       "    <tr style=\"text-align: right;\">\n",
       "      <th>Predicted</th>\n",
       "      <th>0</th>\n",
       "      <th>1</th>\n",
       "      <th>All</th>\n",
       "    </tr>\n",
       "    <tr>\n",
       "      <th>True</th>\n",
       "      <th></th>\n",
       "      <th></th>\n",
       "      <th></th>\n",
       "    </tr>\n",
       "  </thead>\n",
       "  <tbody>\n",
       "    <tr>\n",
       "      <th>0</th>\n",
       "      <td>43167</td>\n",
       "      <td>203</td>\n",
       "      <td>43370</td>\n",
       "    </tr>\n",
       "    <tr>\n",
       "      <th>1</th>\n",
       "      <td>143</td>\n",
       "      <td>2726</td>\n",
       "      <td>2869</td>\n",
       "    </tr>\n",
       "    <tr>\n",
       "      <th>All</th>\n",
       "      <td>43310</td>\n",
       "      <td>2929</td>\n",
       "      <td>46239</td>\n",
       "    </tr>\n",
       "  </tbody>\n",
       "</table>\n",
       "</div>"
      ],
      "text/plain": [
       "Predicted      0     1    All\n",
       "True                         \n",
       "0          43167   203  43370\n",
       "1            143  2726   2869\n",
       "All        43310  2929  46239"
      ]
     },
     "execution_count": 97,
     "metadata": {},
     "output_type": "execute_result"
    }
   ],
   "source": [
    "# Calculate accuracy \n",
    "acc = accuracy_score(y_test,y_preds_Decision_Tree) * 100\n",
    "print('Accuracy is :{0}'.format(acc))\n",
    "\n",
    "# Check the AUC for predictions\n",
    "false_positive_rate, true_positive_rate, thresholds = roc_curve(y_test, y_preds_Decision_Tree)\n",
    "roc_auc = auc(false_positive_rate, true_positive_rate)\n",
    "print('\\nAUC is :{0}'.format(round(roc_auc, 2)))\n",
    "\n",
    "# Create and print a confusion matrix \n",
    "print('\\nConfusion Matrix')\n",
    "print('----------------')\n",
    "pd.crosstab(y_test, y_preds_Decision_Tree, rownames=['True'], colnames=['Predicted'], margins=True)"
   ]
  },
  {
   "cell_type": "code",
   "execution_count": null,
   "metadata": {},
   "outputs": [],
   "source": [
    "# Alternative confusion matrix\n",
    "from sklearn.metrics import plot_confusion_matrix\n",
    "\n",
    "plot_confusion_matrix(clf_Decision_Tree, X, y, values_format='.3g')\n",
    "plt.show()\n",
    "\n",
    "# Why do you put the original X and y"
   ]
  },
  {
   "cell_type": "code",
   "execution_count": 98,
   "metadata": {},
   "outputs": [
    {
     "name": "stdout",
     "output_type": "stream",
     "text": [
      "The accuracy is : 0.9925171392114881\n",
      "\n",
      "\n",
      "Classification Report:\n",
      "              precision    recall  f1-score   support\n",
      "\n",
      "           0       1.00      1.00      1.00     43370\n",
      "           1       0.93      0.95      0.94      2869\n",
      "\n",
      "    accuracy                           0.99     46239\n",
      "   macro avg       0.96      0.97      0.97     46239\n",
      "weighted avg       0.99      0.99      0.99     46239\n",
      "\n"
     ]
    },
    {
     "data": {
      "image/png": "[encoded data removed]",
      "text/plain": [
       "<Figure size 432x288 with 2 Axes>"
      ]
     },
     "metadata": {
      "needs_background": "light"
     },
     "output_type": "display_data"
    }
   ],
   "source": [
    "from sklearn import metrics\n",
    "from sklearn.metrics import confusion_matrix\n",
    "print(\"The accuracy is :\" , accuracy_score(y_test, y_preds_Decision_Tree))\n",
    "print(\"\\n\")\n",
    "print(\"Classification Report:\")\n",
    "print(metrics.classification_report(y_test, y_preds_Decision_Tree))\n",
    "\n",
    "sns.heatmap(confusion_matrix(y_test, y_preds_Decision_Tree), annot=True)\n",
    "plt.title(\"Confusion Matrix\")\n",
    "plt.show()"
   ]
  },
  {
   "cell_type": "code",
   "execution_count": null,
   "metadata": {},
   "outputs": [],
   "source": []
  }
 ],
 "metadata": {
  "kernelspec": {
   "display_name": "Python 3",
   "language": "python",
   "name": "python3"
  },
  "language_info": {
   "codemirror_mode": {
    "name": "ipython",
    "version": 3
   },
   "file_extension": ".py",
   "mimetype": "text/x-python",
   "name": "python",
   "nbconvert_exporter": "python",
   "pygments_lexer": "ipython3",
   "version": "3.6.9"
  }
 },
 "nbformat": 4,
 "nbformat_minor": 4
}
